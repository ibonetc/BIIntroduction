{
  "nbformat": 4,
  "nbformat_minor": 0,
  "metadata": {
    "colab": {
      "name": "EjemploPabloZule.ipynb",
      "version": "0.3.2",
      "provenance": [],
      "include_colab_link": true
    },
    "kernelspec": {
      "name": "python3",
      "display_name": "Python 3"
    }
  },
  "cells": [
    {
      "cell_type": "markdown",
      "metadata": {
        "id": "view-in-github",
        "colab_type": "text"
      },
      "source": [
        "<a href=\"https://colab.research.google.com/github/ibonetc/TensorFlow_Python/blob/master/EjemploPabloZule.ipynb\" target=\"_parent\"><img src=\"https://colab.research.google.com/assets/colab-badge.svg\" alt=\"Open In Colab\"/></a>"
      ]
    },
    {
      "cell_type": "code",
      "metadata": {
        "id": "GMcfzWsFMx8j",
        "colab_type": "code",
        "colab": {}
      },
      "source": [
        "import numpy as np\n",
        "import pandas as pd\n",
        "from sklearn.preprocessing import MinMaxScaler\n",
        "from sklearn.neighbors import KNeighborsClassifier\n",
        "\n",
        "from sklearn.datasets import make_classification\n",
        "from sklearn.model_selection import cross_validate, cross_val_score\n",
        "from sklearn.linear_model import LogisticRegression\n",
        "from sklearn.metrics import accuracy_score, confusion_matrix, recall_score, roc_auc_score, precision_score, f1_score\n",
        "\n",
        "from sklearn.model_selection import train_test_split\n",
        "\n",
        "from keras.models import Sequential\n",
        "from keras.layers import Input, Dropout, Flatten, Conv2D,MaxPooling2D, Dense, Activation\n",
        "\n",
        "from sklearn.preprocessing import StandardScaler\n",
        "\n",
        "from keras.wrappers.scikit_learn import KerasClassifier"
      ],
      "execution_count": 0,
      "outputs": []
    },
    {
      "cell_type": "code",
      "metadata": {
        "id": "soQVa_9CM7_t",
        "colab_type": "code",
        "colab": {}
      },
      "source": [
        "scoring = {'accuracy': 'accuracy',\n",
        "           'recall': 'recall',\n",
        "           'recall_micro': 'recall_micro',\n",
        "           'recall_macro': 'recall_macro',\n",
        "           'precision': 'precision',\n",
        "           'precision_micro': 'precision_micro',\n",
        "           'precision_macro': 'precision_macro',\n",
        "           'f1' : 'f1',\n",
        "           'roc_auc': 'roc_auc'}"
      ],
      "execution_count": 0,
      "outputs": []
    },
    {
      "cell_type": "code",
      "metadata": {
        "id": "jdZPvNjTRdu3",
        "colab_type": "code",
        "colab": {}
      },
      "source": [
        "sofa = pd.read_csv('sofa_angus.csv')\n",
        "sofa = sofa.dropna(axis = 0, how ='any') "
      ],
      "execution_count": 0,
      "outputs": []
    },
    {
      "cell_type": "code",
      "metadata": {
        "id": "b67MNJqhSAlc",
        "colab_type": "code",
        "colab": {}
      },
      "source": [
        "#scalerMM = MinMaxScaler()\n",
        "Xsofa = sofa[['pao2','plaquetas','bilirrubina', 'glass', 'creatinine_max', 'dopamine', 'epinephrine', 'norepinephrine', 'meanbp_min','urineoutput']]\n",
        "#XestandarS= scalerMM.fit_transform(Xsofa)\n",
        "scaler = StandardScaler()\n",
        "XestandarS = scaler.fit_transform(Xsofa)\n",
        "X = XestandarS\n",
        "Yangus = sofa[['angus_sepsis']]\n",
        "Ydays = sofa[['days_uci']]\n",
        "Ysepsis = sofa[['sepsis_explicita']]\n",
        "Ydied = sofa[['died']]\n",
        "YSofa = [Yangus,Ydays,Ysepsis,Ydied]\n",
        "Y = YSofa\n",
        "Yname = \"Sofa\""
      ],
      "execution_count": 0,
      "outputs": []
    },
    {
      "cell_type": "code",
      "metadata": {
        "id": "tnjAXNjMVQ_6",
        "colab_type": "code",
        "outputId": "ad246997-0011-4e8e-bfa4-8912849a2feb",
        "colab": {
          "base_uri": "https://localhost:8080/",
          "height": 128
        }
      },
      "source": [
        "clf =  KNeighborsClassifier(n_neighbors=3)\n",
        "clf.fit(X, Y[0])"
      ],
      "execution_count": 32,
      "outputs": [
        {
          "output_type": "stream",
          "text": [
            "/usr/local/lib/python3.6/dist-packages/ipykernel_launcher.py:2: DataConversionWarning: A column-vector y was passed when a 1d array was expected. Please change the shape of y to (n_samples, ), for example using ravel().\n",
            "  \n"
          ],
          "name": "stderr"
        },
        {
          "output_type": "execute_result",
          "data": {
            "text/plain": [
              "KNeighborsClassifier(algorithm='auto', leaf_size=30, metric='minkowski',\n",
              "           metric_params=None, n_jobs=None, n_neighbors=3, p=2,\n",
              "           weights='uniform')"
            ]
          },
          "metadata": {
            "tags": []
          },
          "execution_count": 32
        }
      ]
    },
    {
      "cell_type": "code",
      "metadata": {
        "id": "Yhw_iAn2Wawc",
        "colab_type": "code",
        "outputId": "5386d8bc-cb69-4519-f2e0-6026b3c20c44",
        "colab": {
          "base_uri": "https://localhost:8080/",
          "height": 401
        }
      },
      "source": [
        "cross_val_scores = cross_validate(clf, X, Y[0], cv=10, scoring=scoring)"
      ],
      "execution_count": 33,
      "outputs": [
        {
          "output_type": "stream",
          "text": [
            "/usr/local/lib/python3.6/dist-packages/sklearn/model_selection/_validation.py:528: DataConversionWarning: A column-vector y was passed when a 1d array was expected. Please change the shape of y to (n_samples, ), for example using ravel().\n",
            "  estimator.fit(X_train, y_train, **fit_params)\n",
            "/usr/local/lib/python3.6/dist-packages/sklearn/model_selection/_validation.py:528: DataConversionWarning: A column-vector y was passed when a 1d array was expected. Please change the shape of y to (n_samples, ), for example using ravel().\n",
            "  estimator.fit(X_train, y_train, **fit_params)\n",
            "/usr/local/lib/python3.6/dist-packages/sklearn/model_selection/_validation.py:528: DataConversionWarning: A column-vector y was passed when a 1d array was expected. Please change the shape of y to (n_samples, ), for example using ravel().\n",
            "  estimator.fit(X_train, y_train, **fit_params)\n",
            "/usr/local/lib/python3.6/dist-packages/sklearn/model_selection/_validation.py:528: DataConversionWarning: A column-vector y was passed when a 1d array was expected. Please change the shape of y to (n_samples, ), for example using ravel().\n",
            "  estimator.fit(X_train, y_train, **fit_params)\n",
            "/usr/local/lib/python3.6/dist-packages/sklearn/model_selection/_validation.py:528: DataConversionWarning: A column-vector y was passed when a 1d array was expected. Please change the shape of y to (n_samples, ), for example using ravel().\n",
            "  estimator.fit(X_train, y_train, **fit_params)\n",
            "/usr/local/lib/python3.6/dist-packages/sklearn/model_selection/_validation.py:528: DataConversionWarning: A column-vector y was passed when a 1d array was expected. Please change the shape of y to (n_samples, ), for example using ravel().\n",
            "  estimator.fit(X_train, y_train, **fit_params)\n",
            "/usr/local/lib/python3.6/dist-packages/sklearn/model_selection/_validation.py:528: DataConversionWarning: A column-vector y was passed when a 1d array was expected. Please change the shape of y to (n_samples, ), for example using ravel().\n",
            "  estimator.fit(X_train, y_train, **fit_params)\n",
            "/usr/local/lib/python3.6/dist-packages/sklearn/model_selection/_validation.py:528: DataConversionWarning: A column-vector y was passed when a 1d array was expected. Please change the shape of y to (n_samples, ), for example using ravel().\n",
            "  estimator.fit(X_train, y_train, **fit_params)\n",
            "/usr/local/lib/python3.6/dist-packages/sklearn/model_selection/_validation.py:528: DataConversionWarning: A column-vector y was passed when a 1d array was expected. Please change the shape of y to (n_samples, ), for example using ravel().\n",
            "  estimator.fit(X_train, y_train, **fit_params)\n",
            "/usr/local/lib/python3.6/dist-packages/sklearn/model_selection/_validation.py:528: DataConversionWarning: A column-vector y was passed when a 1d array was expected. Please change the shape of y to (n_samples, ), for example using ravel().\n",
            "  estimator.fit(X_train, y_train, **fit_params)\n"
          ],
          "name": "stderr"
        }
      ]
    },
    {
      "cell_type": "code",
      "metadata": {
        "id": "6P2GLgvlNDaK",
        "colab_type": "code",
        "outputId": "c1c50efa-d6dc-4b0c-e286-26fd3f564754",
        "colab": {
          "base_uri": "https://localhost:8080/",
          "height": 55
        }
      },
      "source": [
        "cross_val_scores.keys()"
      ],
      "execution_count": 0,
      "outputs": [
        {
          "output_type": "execute_result",
          "data": {
            "text/plain": [
              "dict_keys(['fit_time', 'score_time', 'test_accuracy', 'train_accuracy', 'test_recall', 'train_recall', 'test_recall_micro', 'train_recall_micro', 'test_recall_macro', 'train_recall_macro', 'test_precision', 'train_precision', 'test_precision_micro', 'train_precision_micro', 'test_precision_macro', 'train_precision_macro', 'test_f1', 'train_f1', 'test_roc_auc', 'train_roc_auc'])"
            ]
          },
          "metadata": {
            "tags": []
          },
          "execution_count": 49
        }
      ]
    },
    {
      "cell_type": "code",
      "metadata": {
        "id": "bFMlLDFeNqJC",
        "colab_type": "code",
        "outputId": "1c6cf24b-a6b8-491b-be96-aff4ea96d199",
        "colab": {
          "base_uri": "https://localhost:8080/",
          "height": 181
        }
      },
      "source": [
        "for key in cross_val_scores:\n",
        "  if ('test' in key):\n",
        "      print (key, ':', cross_val_scores[key].mean())"
      ],
      "execution_count": 0,
      "outputs": [
        {
          "output_type": "stream",
          "text": [
            "test_accuracy : 0.5865747568351605\n",
            "test_recall : 0.6209135711958291\n",
            "test_recall_micro : 0.5865747568351605\n",
            "test_recall_macro : 0.5832389286629284\n",
            "test_precision : 0.6201628584568968\n",
            "test_precision_micro : 0.5865747568351605\n",
            "test_precision_macro : 0.5833410113611628\n",
            "test_f1 : 0.6203986302797502\n",
            "test_roc_auc : 0.6081457627725688\n"
          ],
          "name": "stdout"
        }
      ]
    },
    {
      "cell_type": "code",
      "metadata": {
        "id": "zXOhugsUoSwG",
        "colab_type": "code",
        "colab": {}
      },
      "source": [
        "def createmodel():\n",
        "  classifier = Sequential()\n",
        "  classifier.add(Dense(128,input_dim=X.shape[1],  activation = 'relu'))\n",
        "  classifier.add(Dense(64, activation = 'relu', name='Capa_oculta_1'))\n",
        "  classifier.add(Dense(1, activation = 'sigmoid', name='Capa_de_salida'))\n",
        "\n",
        "  classifier.compile(optimizer = 'adam', loss = 'binary_crossentropy', metrics = ['accuracy'])\n",
        "  return classifier\n",
        "\n",
        "classifier=createmodel()"
      ],
      "execution_count": 0,
      "outputs": []
    },
    {
      "cell_type": "code",
      "metadata": {
        "id": "BVigS91Ioe35",
        "colab_type": "code",
        "colab": {
          "base_uri": "https://localhost:8080/",
          "height": 1874
        },
        "outputId": "2ac614b1-bb5a-4afd-f1f5-ca49cdd1034e"
      },
      "source": [
        "X_train, X_test, y_train, y_test = train_test_split(X, Y[0], test_size=0.2)\n",
        "history=classifier.fit(X_train,y_train, epochs = 50,validation_data=(X_test,y_test))"
      ],
      "execution_count": 51,
      "outputs": [
        {
          "output_type": "stream",
          "text": [
            "Train on 7281 samples, validate on 1821 samples\n",
            "Epoch 1/50\n",
            "7281/7281 [==============================] - 2s 269us/step - loss: 0.6517 - acc: 0.6194 - val_loss: 0.6394 - val_acc: 0.6551\n",
            "Epoch 2/50\n",
            "7281/7281 [==============================] - 0s 54us/step - loss: 0.6335 - acc: 0.6472 - val_loss: 0.6312 - val_acc: 0.6590\n",
            "Epoch 3/50\n",
            "7281/7281 [==============================] - 0s 54us/step - loss: 0.6278 - acc: 0.6502 - val_loss: 0.6223 - val_acc: 0.6568\n",
            "Epoch 4/50\n",
            "7281/7281 [==============================] - 0s 53us/step - loss: 0.6237 - acc: 0.6525 - val_loss: 0.6254 - val_acc: 0.6590\n",
            "Epoch 5/50\n",
            "7281/7281 [==============================] - 0s 54us/step - loss: 0.6207 - acc: 0.6551 - val_loss: 0.6243 - val_acc: 0.6650\n",
            "Epoch 6/50\n",
            "7281/7281 [==============================] - 0s 56us/step - loss: 0.6182 - acc: 0.6549 - val_loss: 0.6186 - val_acc: 0.6601\n",
            "Epoch 7/50\n",
            "7281/7281 [==============================] - 0s 54us/step - loss: 0.6156 - acc: 0.6624 - val_loss: 0.6153 - val_acc: 0.6639\n",
            "Epoch 8/50\n",
            "7281/7281 [==============================] - 0s 53us/step - loss: 0.6133 - acc: 0.6605 - val_loss: 0.6129 - val_acc: 0.6661\n",
            "Epoch 9/50\n",
            "7281/7281 [==============================] - 0s 56us/step - loss: 0.6116 - acc: 0.6661 - val_loss: 0.6211 - val_acc: 0.6661\n",
            "Epoch 10/50\n",
            "7281/7281 [==============================] - 0s 55us/step - loss: 0.6085 - acc: 0.6584 - val_loss: 0.6113 - val_acc: 0.6694\n",
            "Epoch 11/50\n",
            "7281/7281 [==============================] - 0s 54us/step - loss: 0.6055 - acc: 0.6680 - val_loss: 0.6181 - val_acc: 0.6518\n",
            "Epoch 12/50\n",
            "7281/7281 [==============================] - 0s 54us/step - loss: 0.6049 - acc: 0.6674 - val_loss: 0.6141 - val_acc: 0.6667\n",
            "Epoch 13/50\n",
            "7281/7281 [==============================] - 0s 53us/step - loss: 0.6029 - acc: 0.6676 - val_loss: 0.6171 - val_acc: 0.6612\n",
            "Epoch 14/50\n",
            "7281/7281 [==============================] - 0s 53us/step - loss: 0.6030 - acc: 0.6685 - val_loss: 0.6147 - val_acc: 0.6617\n",
            "Epoch 15/50\n",
            "7281/7281 [==============================] - 0s 54us/step - loss: 0.6001 - acc: 0.6720 - val_loss: 0.6164 - val_acc: 0.6601\n",
            "Epoch 16/50\n",
            "7281/7281 [==============================] - 0s 54us/step - loss: 0.5984 - acc: 0.6702 - val_loss: 0.6219 - val_acc: 0.6485\n",
            "Epoch 17/50\n",
            "7281/7281 [==============================] - 0s 53us/step - loss: 0.5973 - acc: 0.6766 - val_loss: 0.6102 - val_acc: 0.6656\n",
            "Epoch 18/50\n",
            "7281/7281 [==============================] - 0s 54us/step - loss: 0.5951 - acc: 0.6760 - val_loss: 0.6126 - val_acc: 0.6749\n",
            "Epoch 19/50\n",
            "7281/7281 [==============================] - 0s 53us/step - loss: 0.5957 - acc: 0.6756 - val_loss: 0.6076 - val_acc: 0.6727\n",
            "Epoch 20/50\n",
            "7281/7281 [==============================] - 0s 53us/step - loss: 0.5932 - acc: 0.6745 - val_loss: 0.6138 - val_acc: 0.6716\n",
            "Epoch 21/50\n",
            "7281/7281 [==============================] - 0s 54us/step - loss: 0.5912 - acc: 0.6804 - val_loss: 0.6071 - val_acc: 0.6820\n",
            "Epoch 22/50\n",
            "7281/7281 [==============================] - 0s 55us/step - loss: 0.5890 - acc: 0.6796 - val_loss: 0.6108 - val_acc: 0.6689\n",
            "Epoch 23/50\n",
            "7281/7281 [==============================] - 0s 53us/step - loss: 0.5873 - acc: 0.6819 - val_loss: 0.6099 - val_acc: 0.6744\n",
            "Epoch 24/50\n",
            "7281/7281 [==============================] - 0s 58us/step - loss: 0.5882 - acc: 0.6822 - val_loss: 0.6123 - val_acc: 0.6711\n",
            "Epoch 25/50\n",
            "7281/7281 [==============================] - 0s 53us/step - loss: 0.5864 - acc: 0.6842 - val_loss: 0.6103 - val_acc: 0.6787\n",
            "Epoch 26/50\n",
            "7281/7281 [==============================] - 0s 53us/step - loss: 0.5866 - acc: 0.6825 - val_loss: 0.6197 - val_acc: 0.6678\n",
            "Epoch 27/50\n",
            "7281/7281 [==============================] - 0s 53us/step - loss: 0.5859 - acc: 0.6818 - val_loss: 0.6111 - val_acc: 0.6711\n",
            "Epoch 28/50\n",
            "7281/7281 [==============================] - 0s 54us/step - loss: 0.5830 - acc: 0.6908 - val_loss: 0.6180 - val_acc: 0.6672\n",
            "Epoch 29/50\n",
            "7281/7281 [==============================] - 0s 53us/step - loss: 0.5796 - acc: 0.6892 - val_loss: 0.6237 - val_acc: 0.6727\n",
            "Epoch 30/50\n",
            "7281/7281 [==============================] - 0s 53us/step - loss: 0.5782 - acc: 0.6939 - val_loss: 0.6122 - val_acc: 0.6722\n",
            "Epoch 31/50\n",
            "7281/7281 [==============================] - 0s 53us/step - loss: 0.5810 - acc: 0.6906 - val_loss: 0.6171 - val_acc: 0.6590\n",
            "Epoch 32/50\n",
            "7281/7281 [==============================] - 0s 54us/step - loss: 0.5760 - acc: 0.6939 - val_loss: 0.6108 - val_acc: 0.6798\n",
            "Epoch 33/50\n",
            "7281/7281 [==============================] - 0s 53us/step - loss: 0.5751 - acc: 0.6915 - val_loss: 0.6192 - val_acc: 0.6628\n",
            "Epoch 34/50\n",
            "7281/7281 [==============================] - 0s 53us/step - loss: 0.5744 - acc: 0.6961 - val_loss: 0.6129 - val_acc: 0.6661\n",
            "Epoch 35/50\n",
            "7281/7281 [==============================] - 0s 53us/step - loss: 0.5766 - acc: 0.6831 - val_loss: 0.6135 - val_acc: 0.6634\n",
            "Epoch 36/50\n",
            "7281/7281 [==============================] - 0s 53us/step - loss: 0.5736 - acc: 0.6961 - val_loss: 0.6154 - val_acc: 0.6617\n",
            "Epoch 37/50\n",
            "7281/7281 [==============================] - 0s 53us/step - loss: 0.5717 - acc: 0.6934 - val_loss: 0.6159 - val_acc: 0.6661\n",
            "Epoch 38/50\n",
            "7281/7281 [==============================] - 0s 52us/step - loss: 0.5710 - acc: 0.6934 - val_loss: 0.6171 - val_acc: 0.6617\n",
            "Epoch 39/50\n",
            "7281/7281 [==============================] - 0s 53us/step - loss: 0.5705 - acc: 0.6943 - val_loss: 0.6129 - val_acc: 0.6722\n",
            "Epoch 40/50\n",
            "7281/7281 [==============================] - 0s 53us/step - loss: 0.5684 - acc: 0.6984 - val_loss: 0.6201 - val_acc: 0.6733\n",
            "Epoch 41/50\n",
            "7281/7281 [==============================] - 0s 53us/step - loss: 0.5670 - acc: 0.6972 - val_loss: 0.6189 - val_acc: 0.6683\n",
            "Epoch 42/50\n",
            "7281/7281 [==============================] - 0s 52us/step - loss: 0.5645 - acc: 0.6996 - val_loss: 0.6147 - val_acc: 0.6760\n",
            "Epoch 43/50\n",
            "7281/7281 [==============================] - 0s 53us/step - loss: 0.5664 - acc: 0.6955 - val_loss: 0.6164 - val_acc: 0.6639\n",
            "Epoch 44/50\n",
            "7281/7281 [==============================] - 0s 52us/step - loss: 0.5623 - acc: 0.6989 - val_loss: 0.6172 - val_acc: 0.6738\n",
            "Epoch 45/50\n",
            "7281/7281 [==============================] - 0s 53us/step - loss: 0.5600 - acc: 0.7016 - val_loss: 0.6239 - val_acc: 0.6623\n",
            "Epoch 46/50\n",
            "7281/7281 [==============================] - 0s 52us/step - loss: 0.5624 - acc: 0.6974 - val_loss: 0.6282 - val_acc: 0.6700\n",
            "Epoch 47/50\n",
            "7281/7281 [==============================] - 0s 54us/step - loss: 0.5618 - acc: 0.7003 - val_loss: 0.6170 - val_acc: 0.6793\n",
            "Epoch 48/50\n",
            "7281/7281 [==============================] - 0s 54us/step - loss: 0.5582 - acc: 0.7051 - val_loss: 0.6224 - val_acc: 0.6584\n",
            "Epoch 49/50\n",
            "7281/7281 [==============================] - 0s 53us/step - loss: 0.5556 - acc: 0.7091 - val_loss: 0.6245 - val_acc: 0.6612\n",
            "Epoch 50/50\n",
            "7281/7281 [==============================] - 0s 56us/step - loss: 0.5561 - acc: 0.7084 - val_loss: 0.6249 - val_acc: 0.6623\n"
          ],
          "name": "stdout"
        }
      ]
    }
  ]
}