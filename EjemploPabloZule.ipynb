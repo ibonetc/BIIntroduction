{
  "nbformat": 4,
  "nbformat_minor": 0,
  "metadata": {
    "colab": {
      "name": "EjemploPabloZule.ipynb",
      "version": "0.3.2",
      "provenance": [],
      "include_colab_link": true
    },
    "kernelspec": {
      "name": "python3",
      "display_name": "Python 3"
    }
  },
  "cells": [
    {
      "cell_type": "markdown",
      "metadata": {
        "id": "view-in-github",
        "colab_type": "text"
      },
      "source": [
        "<a href=\"https://colab.research.google.com/github/ibonetc/TensorFlow_Python/blob/master/EjemploPabloZule.ipynb\" target=\"_parent\"><img src=\"https://colab.research.google.com/assets/colab-badge.svg\" alt=\"Open In Colab\"/></a>"
      ]
    },
    {
      "cell_type": "code",
      "metadata": {
        "id": "GMcfzWsFMx8j",
        "colab_type": "code",
        "colab": {}
      },
      "source": [
        "import numpy as np\n",
        "import pandas as pd\n",
        "from sklearn.preprocessing import MinMaxScaler\n",
        "from sklearn.neighbors import KNeighborsClassifier\n",
        "\n",
        "from sklearn.datasets import make_classification\n",
        "from sklearn.model_selection import cross_validate\n",
        "from sklearn.linear_model import LogisticRegression\n",
        "from sklearn.metrics import accuracy_score, confusion_matrix, recall_score, roc_auc_score, precision_score, f1_score"
      ],
      "execution_count": 0,
      "outputs": []
    },
    {
      "cell_type": "code",
      "metadata": {
        "id": "soQVa_9CM7_t",
        "colab_type": "code",
        "colab": {}
      },
      "source": [
        "scoring = {'accuracy': 'accuracy',\n",
        "           'recall': 'recall',\n",
        "           'recall_micro': 'recall_micro',\n",
        "           'recall_macro': 'recall_macro',\n",
        "           'precision': 'precision',\n",
        "           'precision_micro': 'precision_micro',\n",
        "           'precision_macro': 'precision_macro',\n",
        "           'f1' : 'f1',\n",
        "           'roc_auc': 'roc_auc'}"
      ],
      "execution_count": 0,
      "outputs": []
    },
    {
      "cell_type": "code",
      "metadata": {
        "id": "jdZPvNjTRdu3",
        "colab_type": "code",
        "colab": {}
      },
      "source": [
        "sofa = pd.read_csv('sofa_angus.csv')\n",
        "sofa = sofa.dropna(axis = 0, how ='any') "
      ],
      "execution_count": 0,
      "outputs": []
    },
    {
      "cell_type": "code",
      "metadata": {
        "id": "b67MNJqhSAlc",
        "colab_type": "code",
        "colab": {}
      },
      "source": [
        "scalerMM = MinMaxScaler()\n",
        "Xsofa = sofa[['pao2','plaquetas','bilirrubina', 'glass', 'creatinine_max', 'dopamine', 'epinephrine', 'norepinephrine', 'meanbp_min','urineoutput']]\n",
        "XestandarS= scalerMM.fit_transform(Xsofa)\n",
        "X = XestandarS\n",
        "Yangus = sofa[['angus_sepsis']]\n",
        "Ydays = sofa[['days_uci']]\n",
        "Ysepsis = sofa[['sepsis_explicita']]\n",
        "Ydied = sofa[['died']]\n",
        "YSofa = [Yangus,Ydays,Ysepsis,Ydied]\n",
        "Y = YSofa\n",
        "Yname = \"Sofa\""
      ],
      "execution_count": 0,
      "outputs": []
    },
    {
      "cell_type": "code",
      "metadata": {
        "id": "tnjAXNjMVQ_6",
        "colab_type": "code",
        "colab": {
          "base_uri": "https://localhost:8080/",
          "height": 128
        },
        "outputId": "d89ce457-19a2-4201-bd81-2a461aa9e98b"
      },
      "source": [
        "clf =  KNeighborsClassifier(n_neighbors=3)\n",
        "clf.fit(X, Y[0])"
      ],
      "execution_count": 46,
      "outputs": [
        {
          "output_type": "stream",
          "text": [
            "/usr/local/lib/python3.6/dist-packages/ipykernel_launcher.py:2: DataConversionWarning: A column-vector y was passed when a 1d array was expected. Please change the shape of y to (n_samples, ), for example using ravel().\n",
            "  \n"
          ],
          "name": "stderr"
        },
        {
          "output_type": "execute_result",
          "data": {
            "text/plain": [
              "KNeighborsClassifier(algorithm='auto', leaf_size=30, metric='minkowski',\n",
              "           metric_params=None, n_jobs=None, n_neighbors=3, p=2,\n",
              "           weights='uniform')"
            ]
          },
          "metadata": {
            "tags": []
          },
          "execution_count": 46
        }
      ]
    },
    {
      "cell_type": "code",
      "metadata": {
        "id": "Yhw_iAn2Wawc",
        "colab_type": "code",
        "colab": {
          "base_uri": "https://localhost:8080/",
          "height": 401
        },
        "outputId": "cf06481f-d7a1-4fb8-fff6-bcdb20c8d066"
      },
      "source": [
        "cross_val_scores = cross_validate(clf, X, Y[0], cv=10, scoring=scoring)"
      ],
      "execution_count": 48,
      "outputs": [
        {
          "output_type": "stream",
          "text": [
            "/usr/local/lib/python3.6/dist-packages/sklearn/model_selection/_validation.py:528: DataConversionWarning: A column-vector y was passed when a 1d array was expected. Please change the shape of y to (n_samples, ), for example using ravel().\n",
            "  estimator.fit(X_train, y_train, **fit_params)\n",
            "/usr/local/lib/python3.6/dist-packages/sklearn/model_selection/_validation.py:528: DataConversionWarning: A column-vector y was passed when a 1d array was expected. Please change the shape of y to (n_samples, ), for example using ravel().\n",
            "  estimator.fit(X_train, y_train, **fit_params)\n",
            "/usr/local/lib/python3.6/dist-packages/sklearn/model_selection/_validation.py:528: DataConversionWarning: A column-vector y was passed when a 1d array was expected. Please change the shape of y to (n_samples, ), for example using ravel().\n",
            "  estimator.fit(X_train, y_train, **fit_params)\n",
            "/usr/local/lib/python3.6/dist-packages/sklearn/model_selection/_validation.py:528: DataConversionWarning: A column-vector y was passed when a 1d array was expected. Please change the shape of y to (n_samples, ), for example using ravel().\n",
            "  estimator.fit(X_train, y_train, **fit_params)\n",
            "/usr/local/lib/python3.6/dist-packages/sklearn/model_selection/_validation.py:528: DataConversionWarning: A column-vector y was passed when a 1d array was expected. Please change the shape of y to (n_samples, ), for example using ravel().\n",
            "  estimator.fit(X_train, y_train, **fit_params)\n",
            "/usr/local/lib/python3.6/dist-packages/sklearn/model_selection/_validation.py:528: DataConversionWarning: A column-vector y was passed when a 1d array was expected. Please change the shape of y to (n_samples, ), for example using ravel().\n",
            "  estimator.fit(X_train, y_train, **fit_params)\n",
            "/usr/local/lib/python3.6/dist-packages/sklearn/model_selection/_validation.py:528: DataConversionWarning: A column-vector y was passed when a 1d array was expected. Please change the shape of y to (n_samples, ), for example using ravel().\n",
            "  estimator.fit(X_train, y_train, **fit_params)\n",
            "/usr/local/lib/python3.6/dist-packages/sklearn/model_selection/_validation.py:528: DataConversionWarning: A column-vector y was passed when a 1d array was expected. Please change the shape of y to (n_samples, ), for example using ravel().\n",
            "  estimator.fit(X_train, y_train, **fit_params)\n",
            "/usr/local/lib/python3.6/dist-packages/sklearn/model_selection/_validation.py:528: DataConversionWarning: A column-vector y was passed when a 1d array was expected. Please change the shape of y to (n_samples, ), for example using ravel().\n",
            "  estimator.fit(X_train, y_train, **fit_params)\n",
            "/usr/local/lib/python3.6/dist-packages/sklearn/model_selection/_validation.py:528: DataConversionWarning: A column-vector y was passed when a 1d array was expected. Please change the shape of y to (n_samples, ), for example using ravel().\n",
            "  estimator.fit(X_train, y_train, **fit_params)\n"
          ],
          "name": "stderr"
        }
      ]
    },
    {
      "cell_type": "code",
      "metadata": {
        "id": "6P2GLgvlNDaK",
        "colab_type": "code",
        "colab": {
          "base_uri": "https://localhost:8080/",
          "height": 55
        },
        "outputId": "c1c50efa-d6dc-4b0c-e286-26fd3f564754"
      },
      "source": [
        "cross_val_scores.keys()"
      ],
      "execution_count": 49,
      "outputs": [
        {
          "output_type": "execute_result",
          "data": {
            "text/plain": [
              "dict_keys(['fit_time', 'score_time', 'test_accuracy', 'train_accuracy', 'test_recall', 'train_recall', 'test_recall_micro', 'train_recall_micro', 'test_recall_macro', 'train_recall_macro', 'test_precision', 'train_precision', 'test_precision_micro', 'train_precision_micro', 'test_precision_macro', 'train_precision_macro', 'test_f1', 'train_f1', 'test_roc_auc', 'train_roc_auc'])"
            ]
          },
          "metadata": {
            "tags": []
          },
          "execution_count": 49
        }
      ]
    },
    {
      "cell_type": "code",
      "metadata": {
        "id": "bFMlLDFeNqJC",
        "colab_type": "code",
        "colab": {
          "base_uri": "https://localhost:8080/",
          "height": 181
        },
        "outputId": "1c6cf24b-a6b8-491b-be96-aff4ea96d199"
      },
      "source": [
        "for key in cross_val_scores:\n",
        "  if ('test' in key):\n",
        "      print (key, ':', cross_val_scores[key].mean())"
      ],
      "execution_count": 50,
      "outputs": [
        {
          "output_type": "stream",
          "text": [
            "test_accuracy : 0.5865747568351605\n",
            "test_recall : 0.6209135711958291\n",
            "test_recall_micro : 0.5865747568351605\n",
            "test_recall_macro : 0.5832389286629284\n",
            "test_precision : 0.6201628584568968\n",
            "test_precision_micro : 0.5865747568351605\n",
            "test_precision_macro : 0.5833410113611628\n",
            "test_f1 : 0.6203986302797502\n",
            "test_roc_auc : 0.6081457627725688\n"
          ],
          "name": "stdout"
        }
      ]
    }
  ]
}