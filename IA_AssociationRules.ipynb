{
  "nbformat": 4,
  "nbformat_minor": 0,
  "metadata": {
    "colab": {
      "name": "IA_AssociationRules.ipynb",
      "provenance": [],
      "toc_visible": true,
      "mount_file_id": "1_Y3vMwKiA5DysjZVp7J0Xbc5Ec2fQPtV",
      "authorship_tag": "ABX9TyO7EuJoKdnpafiau18zYOJR",
      "include_colab_link": true
    },
    "kernelspec": {
      "name": "python3",
      "display_name": "Python 3"
    },
    "language_info": {
      "name": "python"
    }
  },
  "cells": [
    {
      "cell_type": "markdown",
      "metadata": {
        "id": "view-in-github",
        "colab_type": "text"
      },
      "source": [
        "<a href=\"https://colab.research.google.com/github/ibonetc/VisionAPI_TensorFlow_Python/blob/master/IA_AssociationRules.ipynb\" target=\"_parent\"><img src=\"https://colab.research.google.com/assets/colab-badge.svg\" alt=\"Open In Colab\"/></a>"
      ]
    },
    {
      "cell_type": "markdown",
      "metadata": {
        "id": "ptiB-OktG--W"
      },
      "source": [
        "# Reglas de Asociación\n"
      ]
    },
    {
      "cell_type": "markdown",
      "metadata": {
        "id": "3RnDoCfPtXtV"
      },
      "source": [
        ""
      ]
    },
    {
      "cell_type": "markdown",
      "metadata": {
        "id": "veL7EbPK58V0"
      },
      "source": [
        "## Algoritmo Apriori"
      ]
    },
    {
      "cell_type": "code",
      "metadata": {
        "id": "uKo58Z5iGxOl"
      },
      "source": [
        "import numpy as np\n",
        "import matplotlib.pyplot as plt\n",
        "import pandas as pd"
      ],
      "execution_count": 1,
      "outputs": []
    },
    {
      "cell_type": "code",
      "metadata": {
        "colab": {
          "base_uri": "https://localhost:8080/"
        },
        "id": "OvLBPwHyIZUM",
        "outputId": "f8fe6d88-1c22-475c-f1b6-0a5229b4d05c"
      },
      "source": [
        "!pip install apyori"
      ],
      "execution_count": 2,
      "outputs": [
        {
          "output_type": "stream",
          "text": [
            "Collecting apyori\n",
            "  Downloading apyori-1.1.2.tar.gz (8.6 kB)\n",
            "Building wheels for collected packages: apyori\n",
            "  Building wheel for apyori (setup.py) ... \u001b[?25l\u001b[?25hdone\n",
            "  Created wheel for apyori: filename=apyori-1.1.2-py3-none-any.whl size=5974 sha256=8ed5e9ad3242c38fc71c724fda1df3205181c720c78c963ec51315b17df2ba72\n",
            "  Stored in directory: /root/.cache/pip/wheels/cb/f6/e1/57973c631d27efd1a2f375bd6a83b2a616c4021f24aab84080\n",
            "Successfully built apyori\n",
            "Installing collected packages: apyori\n",
            "Successfully installed apyori-1.1.2\n"
          ],
          "name": "stdout"
        }
      ]
    },
    {
      "cell_type": "markdown",
      "metadata": {
        "id": "lcbws2eXsiLd"
      },
      "source": [
        "### Biblioteca apyori"
      ]
    },
    {
      "cell_type": "code",
      "metadata": {
        "id": "-hB1oHCTItYU"
      },
      "source": [
        "from apyori import apriori"
      ],
      "execution_count": 3,
      "outputs": []
    },
    {
      "cell_type": "markdown",
      "metadata": {
        "id": "saVcjgVhtecd"
      },
      "source": [
        "Vamos a cargar unos datos de ejemplo, donde cada fila es una transacción de compra de prodructos, por lo que cada fila tiene cantidad de elementos diferentes."
      ]
    },
    {
      "cell_type": "code",
      "metadata": {
        "id": "prOOnTjBIwL6"
      },
      "source": [
        "store_data = pd.read_csv('/content/drive/MyDrive/Datasets/store_data.csv',header=None)"
      ],
      "execution_count": 4,
      "outputs": []
    },
    {
      "cell_type": "code",
      "metadata": {
        "colab": {
          "base_uri": "https://localhost:8080/",
          "height": 541
        },
        "id": "8T2MmIFkI_My",
        "outputId": "dae0be5b-2705-45ac-e384-ff7f1e59e389"
      },
      "source": [
        "store_data"
      ],
      "execution_count": 5,
      "outputs": [
        {
          "output_type": "execute_result",
          "data": {
            "text/html": [
              "<div>\n",
              "<style scoped>\n",
              "    .dataframe tbody tr th:only-of-type {\n",
              "        vertical-align: middle;\n",
              "    }\n",
              "\n",
              "    .dataframe tbody tr th {\n",
              "        vertical-align: top;\n",
              "    }\n",
              "\n",
              "    .dataframe thead th {\n",
              "        text-align: right;\n",
              "    }\n",
              "</style>\n",
              "<table border=\"1\" class=\"dataframe\">\n",
              "  <thead>\n",
              "    <tr style=\"text-align: right;\">\n",
              "      <th></th>\n",
              "      <th>0</th>\n",
              "      <th>1</th>\n",
              "      <th>2</th>\n",
              "      <th>3</th>\n",
              "      <th>4</th>\n",
              "      <th>5</th>\n",
              "      <th>6</th>\n",
              "      <th>7</th>\n",
              "      <th>8</th>\n",
              "      <th>9</th>\n",
              "      <th>10</th>\n",
              "      <th>11</th>\n",
              "      <th>12</th>\n",
              "      <th>13</th>\n",
              "      <th>14</th>\n",
              "      <th>15</th>\n",
              "      <th>16</th>\n",
              "      <th>17</th>\n",
              "      <th>18</th>\n",
              "      <th>19</th>\n",
              "    </tr>\n",
              "  </thead>\n",
              "  <tbody>\n",
              "    <tr>\n",
              "      <th>0</th>\n",
              "      <td>shrimp</td>\n",
              "      <td>almonds</td>\n",
              "      <td>avocado</td>\n",
              "      <td>vegetables mix</td>\n",
              "      <td>green grapes</td>\n",
              "      <td>whole weat flour</td>\n",
              "      <td>yams</td>\n",
              "      <td>cottage cheese</td>\n",
              "      <td>energy drink</td>\n",
              "      <td>tomato juice</td>\n",
              "      <td>low fat yogurt</td>\n",
              "      <td>green tea</td>\n",
              "      <td>honey</td>\n",
              "      <td>salad</td>\n",
              "      <td>mineral water</td>\n",
              "      <td>salmon</td>\n",
              "      <td>antioxydant juice</td>\n",
              "      <td>frozen smoothie</td>\n",
              "      <td>spinach</td>\n",
              "      <td>olive oil</td>\n",
              "    </tr>\n",
              "    <tr>\n",
              "      <th>1</th>\n",
              "      <td>burgers</td>\n",
              "      <td>meatballs</td>\n",
              "      <td>eggs</td>\n",
              "      <td>NaN</td>\n",
              "      <td>NaN</td>\n",
              "      <td>NaN</td>\n",
              "      <td>NaN</td>\n",
              "      <td>NaN</td>\n",
              "      <td>NaN</td>\n",
              "      <td>NaN</td>\n",
              "      <td>NaN</td>\n",
              "      <td>NaN</td>\n",
              "      <td>NaN</td>\n",
              "      <td>NaN</td>\n",
              "      <td>NaN</td>\n",
              "      <td>NaN</td>\n",
              "      <td>NaN</td>\n",
              "      <td>NaN</td>\n",
              "      <td>NaN</td>\n",
              "      <td>NaN</td>\n",
              "    </tr>\n",
              "    <tr>\n",
              "      <th>2</th>\n",
              "      <td>chutney</td>\n",
              "      <td>NaN</td>\n",
              "      <td>NaN</td>\n",
              "      <td>NaN</td>\n",
              "      <td>NaN</td>\n",
              "      <td>NaN</td>\n",
              "      <td>NaN</td>\n",
              "      <td>NaN</td>\n",
              "      <td>NaN</td>\n",
              "      <td>NaN</td>\n",
              "      <td>NaN</td>\n",
              "      <td>NaN</td>\n",
              "      <td>NaN</td>\n",
              "      <td>NaN</td>\n",
              "      <td>NaN</td>\n",
              "      <td>NaN</td>\n",
              "      <td>NaN</td>\n",
              "      <td>NaN</td>\n",
              "      <td>NaN</td>\n",
              "      <td>NaN</td>\n",
              "    </tr>\n",
              "    <tr>\n",
              "      <th>3</th>\n",
              "      <td>turkey</td>\n",
              "      <td>avocado</td>\n",
              "      <td>NaN</td>\n",
              "      <td>NaN</td>\n",
              "      <td>NaN</td>\n",
              "      <td>NaN</td>\n",
              "      <td>NaN</td>\n",
              "      <td>NaN</td>\n",
              "      <td>NaN</td>\n",
              "      <td>NaN</td>\n",
              "      <td>NaN</td>\n",
              "      <td>NaN</td>\n",
              "      <td>NaN</td>\n",
              "      <td>NaN</td>\n",
              "      <td>NaN</td>\n",
              "      <td>NaN</td>\n",
              "      <td>NaN</td>\n",
              "      <td>NaN</td>\n",
              "      <td>NaN</td>\n",
              "      <td>NaN</td>\n",
              "    </tr>\n",
              "    <tr>\n",
              "      <th>4</th>\n",
              "      <td>mineral water</td>\n",
              "      <td>milk</td>\n",
              "      <td>energy bar</td>\n",
              "      <td>whole wheat rice</td>\n",
              "      <td>green tea</td>\n",
              "      <td>NaN</td>\n",
              "      <td>NaN</td>\n",
              "      <td>NaN</td>\n",
              "      <td>NaN</td>\n",
              "      <td>NaN</td>\n",
              "      <td>NaN</td>\n",
              "      <td>NaN</td>\n",
              "      <td>NaN</td>\n",
              "      <td>NaN</td>\n",
              "      <td>NaN</td>\n",
              "      <td>NaN</td>\n",
              "      <td>NaN</td>\n",
              "      <td>NaN</td>\n",
              "      <td>NaN</td>\n",
              "      <td>NaN</td>\n",
              "    </tr>\n",
              "    <tr>\n",
              "      <th>...</th>\n",
              "      <td>...</td>\n",
              "      <td>...</td>\n",
              "      <td>...</td>\n",
              "      <td>...</td>\n",
              "      <td>...</td>\n",
              "      <td>...</td>\n",
              "      <td>...</td>\n",
              "      <td>...</td>\n",
              "      <td>...</td>\n",
              "      <td>...</td>\n",
              "      <td>...</td>\n",
              "      <td>...</td>\n",
              "      <td>...</td>\n",
              "      <td>...</td>\n",
              "      <td>...</td>\n",
              "      <td>...</td>\n",
              "      <td>...</td>\n",
              "      <td>...</td>\n",
              "      <td>...</td>\n",
              "      <td>...</td>\n",
              "    </tr>\n",
              "    <tr>\n",
              "      <th>7496</th>\n",
              "      <td>butter</td>\n",
              "      <td>light mayo</td>\n",
              "      <td>fresh bread</td>\n",
              "      <td>NaN</td>\n",
              "      <td>NaN</td>\n",
              "      <td>NaN</td>\n",
              "      <td>NaN</td>\n",
              "      <td>NaN</td>\n",
              "      <td>NaN</td>\n",
              "      <td>NaN</td>\n",
              "      <td>NaN</td>\n",
              "      <td>NaN</td>\n",
              "      <td>NaN</td>\n",
              "      <td>NaN</td>\n",
              "      <td>NaN</td>\n",
              "      <td>NaN</td>\n",
              "      <td>NaN</td>\n",
              "      <td>NaN</td>\n",
              "      <td>NaN</td>\n",
              "      <td>NaN</td>\n",
              "    </tr>\n",
              "    <tr>\n",
              "      <th>7497</th>\n",
              "      <td>burgers</td>\n",
              "      <td>frozen vegetables</td>\n",
              "      <td>eggs</td>\n",
              "      <td>french fries</td>\n",
              "      <td>magazines</td>\n",
              "      <td>green tea</td>\n",
              "      <td>NaN</td>\n",
              "      <td>NaN</td>\n",
              "      <td>NaN</td>\n",
              "      <td>NaN</td>\n",
              "      <td>NaN</td>\n",
              "      <td>NaN</td>\n",
              "      <td>NaN</td>\n",
              "      <td>NaN</td>\n",
              "      <td>NaN</td>\n",
              "      <td>NaN</td>\n",
              "      <td>NaN</td>\n",
              "      <td>NaN</td>\n",
              "      <td>NaN</td>\n",
              "      <td>NaN</td>\n",
              "    </tr>\n",
              "    <tr>\n",
              "      <th>7498</th>\n",
              "      <td>chicken</td>\n",
              "      <td>NaN</td>\n",
              "      <td>NaN</td>\n",
              "      <td>NaN</td>\n",
              "      <td>NaN</td>\n",
              "      <td>NaN</td>\n",
              "      <td>NaN</td>\n",
              "      <td>NaN</td>\n",
              "      <td>NaN</td>\n",
              "      <td>NaN</td>\n",
              "      <td>NaN</td>\n",
              "      <td>NaN</td>\n",
              "      <td>NaN</td>\n",
              "      <td>NaN</td>\n",
              "      <td>NaN</td>\n",
              "      <td>NaN</td>\n",
              "      <td>NaN</td>\n",
              "      <td>NaN</td>\n",
              "      <td>NaN</td>\n",
              "      <td>NaN</td>\n",
              "    </tr>\n",
              "    <tr>\n",
              "      <th>7499</th>\n",
              "      <td>escalope</td>\n",
              "      <td>green tea</td>\n",
              "      <td>NaN</td>\n",
              "      <td>NaN</td>\n",
              "      <td>NaN</td>\n",
              "      <td>NaN</td>\n",
              "      <td>NaN</td>\n",
              "      <td>NaN</td>\n",
              "      <td>NaN</td>\n",
              "      <td>NaN</td>\n",
              "      <td>NaN</td>\n",
              "      <td>NaN</td>\n",
              "      <td>NaN</td>\n",
              "      <td>NaN</td>\n",
              "      <td>NaN</td>\n",
              "      <td>NaN</td>\n",
              "      <td>NaN</td>\n",
              "      <td>NaN</td>\n",
              "      <td>NaN</td>\n",
              "      <td>NaN</td>\n",
              "    </tr>\n",
              "    <tr>\n",
              "      <th>7500</th>\n",
              "      <td>eggs</td>\n",
              "      <td>frozen smoothie</td>\n",
              "      <td>yogurt cake</td>\n",
              "      <td>low fat yogurt</td>\n",
              "      <td>NaN</td>\n",
              "      <td>NaN</td>\n",
              "      <td>NaN</td>\n",
              "      <td>NaN</td>\n",
              "      <td>NaN</td>\n",
              "      <td>NaN</td>\n",
              "      <td>NaN</td>\n",
              "      <td>NaN</td>\n",
              "      <td>NaN</td>\n",
              "      <td>NaN</td>\n",
              "      <td>NaN</td>\n",
              "      <td>NaN</td>\n",
              "      <td>NaN</td>\n",
              "      <td>NaN</td>\n",
              "      <td>NaN</td>\n",
              "      <td>NaN</td>\n",
              "    </tr>\n",
              "  </tbody>\n",
              "</table>\n",
              "<p>7501 rows × 20 columns</p>\n",
              "</div>"
            ],
            "text/plain": [
              "                 0                  1   ...       18         19\n",
              "0            shrimp            almonds  ...  spinach  olive oil\n",
              "1           burgers          meatballs  ...      NaN        NaN\n",
              "2           chutney                NaN  ...      NaN        NaN\n",
              "3            turkey            avocado  ...      NaN        NaN\n",
              "4     mineral water               milk  ...      NaN        NaN\n",
              "...             ...                ...  ...      ...        ...\n",
              "7496         butter         light mayo  ...      NaN        NaN\n",
              "7497        burgers  frozen vegetables  ...      NaN        NaN\n",
              "7498        chicken                NaN  ...      NaN        NaN\n",
              "7499       escalope          green tea  ...      NaN        NaN\n",
              "7500           eggs    frozen smoothie  ...      NaN        NaN\n",
              "\n",
              "[7501 rows x 20 columns]"
            ]
          },
          "metadata": {},
          "execution_count": 5
        }
      ]
    },
    {
      "cell_type": "markdown",
      "metadata": {
        "id": "c7OHIf5IJtj7"
      },
      "source": [
        "#### Preprocesar datos"
      ]
    },
    {
      "cell_type": "code",
      "metadata": {
        "colab": {
          "base_uri": "https://localhost:8080/"
        },
        "id": "0JeLWYC1Jl8C",
        "outputId": "dd5adfd0-0670-4101-8a5e-5b883edf6f87"
      },
      "source": [
        "records=[j.astype('str') for j in store_data.values]\n",
        "records[0]"
      ],
      "execution_count": 6,
      "outputs": [
        {
          "output_type": "execute_result",
          "data": {
            "text/plain": [
              "array(['shrimp', 'almonds', 'avocado', 'vegetables mix', 'green grapes',\n",
              "       'whole weat flour', 'yams', 'cottage cheese', 'energy drink',\n",
              "       'tomato juice', 'low fat yogurt', 'green tea', 'honey', 'salad',\n",
              "       'mineral water', 'salmon', 'antioxydant juice', 'frozen smoothie',\n",
              "       'spinach', 'olive oil'], dtype='<U17')"
            ]
          },
          "metadata": {},
          "execution_count": 6
        }
      ]
    },
    {
      "cell_type": "markdown",
      "metadata": {
        "id": "ox9H1FJBJvHb"
      },
      "source": [
        "#### Aplicar algoritmo Apriori"
      ]
    },
    {
      "cell_type": "code",
      "metadata": {
        "id": "nrDsNmLxJqX7"
      },
      "source": [
        "association_rules = apriori(records, min_support=0.0045, min_confidence=0.2, min_lift=3, min_length=2)\n",
        "association_results = list(association_rules)"
      ],
      "execution_count": 7,
      "outputs": []
    },
    {
      "cell_type": "code",
      "metadata": {
        "colab": {
          "base_uri": "https://localhost:8080/"
        },
        "id": "Uu1sW1BuJ00d",
        "outputId": "bc1d6713-d298-4325-e475-8f66f6f16de0"
      },
      "source": [
        "print(len(association_results))"
      ],
      "execution_count": 8,
      "outputs": [
        {
          "output_type": "stream",
          "text": [
            "48\n"
          ],
          "name": "stdout"
        }
      ]
    },
    {
      "cell_type": "code",
      "metadata": {
        "colab": {
          "base_uri": "https://localhost:8080/"
        },
        "id": "SYIaTaXGJ_rE",
        "outputId": "be0f277a-9eb3-4296-9a0b-ae754107636d"
      },
      "source": [
        "association_results[0]"
      ],
      "execution_count": 9,
      "outputs": [
        {
          "output_type": "execute_result",
          "data": {
            "text/plain": [
              "RelationRecord(items=frozenset({'chicken', 'light cream'}), support=0.004532728969470737, ordered_statistics=[OrderedStatistic(items_base=frozenset({'light cream'}), items_add=frozenset({'chicken'}), confidence=0.29059829059829057, lift=4.84395061728395)])"
            ]
          },
          "metadata": {},
          "execution_count": 9
        }
      ]
    },
    {
      "cell_type": "markdown",
      "metadata": {
        "id": "_IGAsUr6KoU7"
      },
      "source": [
        "### Biblioteca mlxtend"
      ]
    },
    {
      "cell_type": "code",
      "metadata": {
        "id": "l5ym0LpMKPF0"
      },
      "source": [
        "from mlxtend.frequent_patterns import apriori, association_rules"
      ],
      "execution_count": 10,
      "outputs": []
    },
    {
      "cell_type": "code",
      "metadata": {
        "colab": {
          "base_uri": "https://localhost:8080/",
          "height": 419
        },
        "id": "EGGyqOP_Kuml",
        "outputId": "15f0fc59-e0ce-43d3-c6a0-5fa21762f5d2"
      },
      "source": [
        "data = pd.read_csv('/content/drive/MyDrive/Datasets/retail_dataset.csv')\n",
        "data"
      ],
      "execution_count": 11,
      "outputs": [
        {
          "output_type": "execute_result",
          "data": {
            "text/html": [
              "<div>\n",
              "<style scoped>\n",
              "    .dataframe tbody tr th:only-of-type {\n",
              "        vertical-align: middle;\n",
              "    }\n",
              "\n",
              "    .dataframe tbody tr th {\n",
              "        vertical-align: top;\n",
              "    }\n",
              "\n",
              "    .dataframe thead th {\n",
              "        text-align: right;\n",
              "    }\n",
              "</style>\n",
              "<table border=\"1\" class=\"dataframe\">\n",
              "  <thead>\n",
              "    <tr style=\"text-align: right;\">\n",
              "      <th></th>\n",
              "      <th>0</th>\n",
              "      <th>1</th>\n",
              "      <th>2</th>\n",
              "      <th>3</th>\n",
              "      <th>4</th>\n",
              "      <th>5</th>\n",
              "      <th>6</th>\n",
              "    </tr>\n",
              "  </thead>\n",
              "  <tbody>\n",
              "    <tr>\n",
              "      <th>0</th>\n",
              "      <td>Bread</td>\n",
              "      <td>Wine</td>\n",
              "      <td>Eggs</td>\n",
              "      <td>Meat</td>\n",
              "      <td>Cheese</td>\n",
              "      <td>Pencil</td>\n",
              "      <td>Diaper</td>\n",
              "    </tr>\n",
              "    <tr>\n",
              "      <th>1</th>\n",
              "      <td>Bread</td>\n",
              "      <td>Cheese</td>\n",
              "      <td>Meat</td>\n",
              "      <td>Diaper</td>\n",
              "      <td>Wine</td>\n",
              "      <td>Milk</td>\n",
              "      <td>Pencil</td>\n",
              "    </tr>\n",
              "    <tr>\n",
              "      <th>2</th>\n",
              "      <td>Cheese</td>\n",
              "      <td>Meat</td>\n",
              "      <td>Eggs</td>\n",
              "      <td>Milk</td>\n",
              "      <td>Wine</td>\n",
              "      <td>NaN</td>\n",
              "      <td>NaN</td>\n",
              "    </tr>\n",
              "    <tr>\n",
              "      <th>3</th>\n",
              "      <td>Cheese</td>\n",
              "      <td>Meat</td>\n",
              "      <td>Eggs</td>\n",
              "      <td>Milk</td>\n",
              "      <td>Wine</td>\n",
              "      <td>NaN</td>\n",
              "      <td>NaN</td>\n",
              "    </tr>\n",
              "    <tr>\n",
              "      <th>4</th>\n",
              "      <td>Meat</td>\n",
              "      <td>Pencil</td>\n",
              "      <td>Wine</td>\n",
              "      <td>NaN</td>\n",
              "      <td>NaN</td>\n",
              "      <td>NaN</td>\n",
              "      <td>NaN</td>\n",
              "    </tr>\n",
              "    <tr>\n",
              "      <th>...</th>\n",
              "      <td>...</td>\n",
              "      <td>...</td>\n",
              "      <td>...</td>\n",
              "      <td>...</td>\n",
              "      <td>...</td>\n",
              "      <td>...</td>\n",
              "      <td>...</td>\n",
              "    </tr>\n",
              "    <tr>\n",
              "      <th>310</th>\n",
              "      <td>Bread</td>\n",
              "      <td>Eggs</td>\n",
              "      <td>Cheese</td>\n",
              "      <td>NaN</td>\n",
              "      <td>NaN</td>\n",
              "      <td>NaN</td>\n",
              "      <td>NaN</td>\n",
              "    </tr>\n",
              "    <tr>\n",
              "      <th>311</th>\n",
              "      <td>Meat</td>\n",
              "      <td>Milk</td>\n",
              "      <td>Pencil</td>\n",
              "      <td>NaN</td>\n",
              "      <td>NaN</td>\n",
              "      <td>NaN</td>\n",
              "      <td>NaN</td>\n",
              "    </tr>\n",
              "    <tr>\n",
              "      <th>312</th>\n",
              "      <td>Bread</td>\n",
              "      <td>Cheese</td>\n",
              "      <td>Eggs</td>\n",
              "      <td>Meat</td>\n",
              "      <td>Pencil</td>\n",
              "      <td>Diaper</td>\n",
              "      <td>Wine</td>\n",
              "    </tr>\n",
              "    <tr>\n",
              "      <th>313</th>\n",
              "      <td>Meat</td>\n",
              "      <td>Cheese</td>\n",
              "      <td>NaN</td>\n",
              "      <td>NaN</td>\n",
              "      <td>NaN</td>\n",
              "      <td>NaN</td>\n",
              "      <td>NaN</td>\n",
              "    </tr>\n",
              "    <tr>\n",
              "      <th>314</th>\n",
              "      <td>Eggs</td>\n",
              "      <td>Wine</td>\n",
              "      <td>Bagel</td>\n",
              "      <td>Bread</td>\n",
              "      <td>Meat</td>\n",
              "      <td>NaN</td>\n",
              "      <td>NaN</td>\n",
              "    </tr>\n",
              "  </tbody>\n",
              "</table>\n",
              "<p>315 rows × 7 columns</p>\n",
              "</div>"
            ],
            "text/plain": [
              "          0       1       2       3       4       5       6\n",
              "0     Bread    Wine    Eggs    Meat  Cheese  Pencil  Diaper\n",
              "1     Bread  Cheese    Meat  Diaper    Wine    Milk  Pencil\n",
              "2    Cheese    Meat    Eggs    Milk    Wine     NaN     NaN\n",
              "3    Cheese    Meat    Eggs    Milk    Wine     NaN     NaN\n",
              "4      Meat  Pencil    Wine     NaN     NaN     NaN     NaN\n",
              "..      ...     ...     ...     ...     ...     ...     ...\n",
              "310   Bread    Eggs  Cheese     NaN     NaN     NaN     NaN\n",
              "311    Meat    Milk  Pencil     NaN     NaN     NaN     NaN\n",
              "312   Bread  Cheese    Eggs    Meat  Pencil  Diaper    Wine\n",
              "313    Meat  Cheese     NaN     NaN     NaN     NaN     NaN\n",
              "314    Eggs    Wine   Bagel   Bread    Meat     NaN     NaN\n",
              "\n",
              "[315 rows x 7 columns]"
            ]
          },
          "metadata": {},
          "execution_count": 11
        }
      ]
    },
    {
      "cell_type": "code",
      "metadata": {
        "colab": {
          "base_uri": "https://localhost:8080/"
        },
        "id": "oK3tbPHFLWD7",
        "outputId": "9f744d6f-08b7-4767-b251-69beca5b87b6"
      },
      "source": [
        "setItems=set()\n",
        "for col in data:\n",
        "  setItems.update(data[col].unique())\n",
        "setItems"
      ],
      "execution_count": 12,
      "outputs": [
        {
          "output_type": "execute_result",
          "data": {
            "text/plain": [
              "{'Bagel',\n",
              " 'Bread',\n",
              " 'Cheese',\n",
              " 'Diaper',\n",
              " 'Eggs',\n",
              " 'Meat',\n",
              " 'Milk',\n",
              " 'Pencil',\n",
              " 'Wine',\n",
              " nan}"
            ]
          },
          "metadata": {},
          "execution_count": 12
        }
      ]
    },
    {
      "cell_type": "code",
      "metadata": {
        "colab": {
          "base_uri": "https://localhost:8080/"
        },
        "id": "bCOxFSn6PonJ",
        "outputId": "855ea57f-a371-47ac-c308-9c14568408fb"
      },
      "source": [
        "x=set({np.nan})\n",
        "setItems=setItems-x\n",
        "setItems"
      ],
      "execution_count": 13,
      "outputs": [
        {
          "output_type": "execute_result",
          "data": {
            "text/plain": [
              "{'Bagel',\n",
              " 'Bread',\n",
              " 'Cheese',\n",
              " 'Diaper',\n",
              " 'Eggs',\n",
              " 'Meat',\n",
              " 'Milk',\n",
              " 'Pencil',\n",
              " 'Wine'}"
            ]
          },
          "metadata": {},
          "execution_count": 13
        }
      ]
    },
    {
      "cell_type": "markdown",
      "metadata": {
        "id": "B2Ho3_vYRtKA"
      },
      "source": [
        "#### One Hot Encoding"
      ]
    },
    {
      "cell_type": "code",
      "metadata": {
        "id": "isfmN6ttNsz7"
      },
      "source": [
        "binary_val = []\n",
        "for c, r in data.iterrows():\n",
        "    rowset = set(r) \n",
        "    binary_row=[]\n",
        "    commons = list(setItems.intersection(rowset))\n",
        "    binary_row=[1 if s in commons else 0 for i,s in enumerate(setItems)]\n",
        "    binary_val.append(binary_row)\n",
        "binary_val[0]\n",
        "ohe_df = pd.DataFrame(binary_val,columns=list(setItems))"
      ],
      "execution_count": 14,
      "outputs": []
    },
    {
      "cell_type": "code",
      "metadata": {
        "colab": {
          "base_uri": "https://localhost:8080/",
          "height": 419
        },
        "id": "Lju3wbvTRfGZ",
        "outputId": "1d2bb2bd-6d3d-4013-f921-03c2f71ce36e"
      },
      "source": [
        "ohe_df"
      ],
      "execution_count": 15,
      "outputs": [
        {
          "output_type": "execute_result",
          "data": {
            "text/html": [
              "<div>\n",
              "<style scoped>\n",
              "    .dataframe tbody tr th:only-of-type {\n",
              "        vertical-align: middle;\n",
              "    }\n",
              "\n",
              "    .dataframe tbody tr th {\n",
              "        vertical-align: top;\n",
              "    }\n",
              "\n",
              "    .dataframe thead th {\n",
              "        text-align: right;\n",
              "    }\n",
              "</style>\n",
              "<table border=\"1\" class=\"dataframe\">\n",
              "  <thead>\n",
              "    <tr style=\"text-align: right;\">\n",
              "      <th></th>\n",
              "      <th>Pencil</th>\n",
              "      <th>Bread</th>\n",
              "      <th>Meat</th>\n",
              "      <th>Diaper</th>\n",
              "      <th>Cheese</th>\n",
              "      <th>Eggs</th>\n",
              "      <th>Bagel</th>\n",
              "      <th>Wine</th>\n",
              "      <th>Milk</th>\n",
              "    </tr>\n",
              "  </thead>\n",
              "  <tbody>\n",
              "    <tr>\n",
              "      <th>0</th>\n",
              "      <td>1</td>\n",
              "      <td>1</td>\n",
              "      <td>1</td>\n",
              "      <td>1</td>\n",
              "      <td>1</td>\n",
              "      <td>1</td>\n",
              "      <td>0</td>\n",
              "      <td>1</td>\n",
              "      <td>0</td>\n",
              "    </tr>\n",
              "    <tr>\n",
              "      <th>1</th>\n",
              "      <td>1</td>\n",
              "      <td>1</td>\n",
              "      <td>1</td>\n",
              "      <td>1</td>\n",
              "      <td>1</td>\n",
              "      <td>0</td>\n",
              "      <td>0</td>\n",
              "      <td>1</td>\n",
              "      <td>1</td>\n",
              "    </tr>\n",
              "    <tr>\n",
              "      <th>2</th>\n",
              "      <td>0</td>\n",
              "      <td>0</td>\n",
              "      <td>1</td>\n",
              "      <td>0</td>\n",
              "      <td>1</td>\n",
              "      <td>1</td>\n",
              "      <td>0</td>\n",
              "      <td>1</td>\n",
              "      <td>1</td>\n",
              "    </tr>\n",
              "    <tr>\n",
              "      <th>3</th>\n",
              "      <td>0</td>\n",
              "      <td>0</td>\n",
              "      <td>1</td>\n",
              "      <td>0</td>\n",
              "      <td>1</td>\n",
              "      <td>1</td>\n",
              "      <td>0</td>\n",
              "      <td>1</td>\n",
              "      <td>1</td>\n",
              "    </tr>\n",
              "    <tr>\n",
              "      <th>4</th>\n",
              "      <td>1</td>\n",
              "      <td>0</td>\n",
              "      <td>1</td>\n",
              "      <td>0</td>\n",
              "      <td>0</td>\n",
              "      <td>0</td>\n",
              "      <td>0</td>\n",
              "      <td>1</td>\n",
              "      <td>0</td>\n",
              "    </tr>\n",
              "    <tr>\n",
              "      <th>...</th>\n",
              "      <td>...</td>\n",
              "      <td>...</td>\n",
              "      <td>...</td>\n",
              "      <td>...</td>\n",
              "      <td>...</td>\n",
              "      <td>...</td>\n",
              "      <td>...</td>\n",
              "      <td>...</td>\n",
              "      <td>...</td>\n",
              "    </tr>\n",
              "    <tr>\n",
              "      <th>310</th>\n",
              "      <td>0</td>\n",
              "      <td>1</td>\n",
              "      <td>0</td>\n",
              "      <td>0</td>\n",
              "      <td>1</td>\n",
              "      <td>1</td>\n",
              "      <td>0</td>\n",
              "      <td>0</td>\n",
              "      <td>0</td>\n",
              "    </tr>\n",
              "    <tr>\n",
              "      <th>311</th>\n",
              "      <td>1</td>\n",
              "      <td>0</td>\n",
              "      <td>1</td>\n",
              "      <td>0</td>\n",
              "      <td>0</td>\n",
              "      <td>0</td>\n",
              "      <td>0</td>\n",
              "      <td>0</td>\n",
              "      <td>1</td>\n",
              "    </tr>\n",
              "    <tr>\n",
              "      <th>312</th>\n",
              "      <td>1</td>\n",
              "      <td>1</td>\n",
              "      <td>1</td>\n",
              "      <td>1</td>\n",
              "      <td>1</td>\n",
              "      <td>1</td>\n",
              "      <td>0</td>\n",
              "      <td>1</td>\n",
              "      <td>0</td>\n",
              "    </tr>\n",
              "    <tr>\n",
              "      <th>313</th>\n",
              "      <td>0</td>\n",
              "      <td>0</td>\n",
              "      <td>1</td>\n",
              "      <td>0</td>\n",
              "      <td>1</td>\n",
              "      <td>0</td>\n",
              "      <td>0</td>\n",
              "      <td>0</td>\n",
              "      <td>0</td>\n",
              "    </tr>\n",
              "    <tr>\n",
              "      <th>314</th>\n",
              "      <td>0</td>\n",
              "      <td>1</td>\n",
              "      <td>1</td>\n",
              "      <td>0</td>\n",
              "      <td>0</td>\n",
              "      <td>1</td>\n",
              "      <td>1</td>\n",
              "      <td>1</td>\n",
              "      <td>0</td>\n",
              "    </tr>\n",
              "  </tbody>\n",
              "</table>\n",
              "<p>315 rows × 9 columns</p>\n",
              "</div>"
            ],
            "text/plain": [
              "     Pencil  Bread  Meat  Diaper  Cheese  Eggs  Bagel  Wine  Milk\n",
              "0         1      1     1       1       1     1      0     1     0\n",
              "1         1      1     1       1       1     0      0     1     1\n",
              "2         0      0     1       0       1     1      0     1     1\n",
              "3         0      0     1       0       1     1      0     1     1\n",
              "4         1      0     1       0       0     0      0     1     0\n",
              "..      ...    ...   ...     ...     ...   ...    ...   ...   ...\n",
              "310       0      1     0       0       1     1      0     0     0\n",
              "311       1      0     1       0       0     0      0     0     1\n",
              "312       1      1     1       1       1     1      0     1     0\n",
              "313       0      0     1       0       1     0      0     0     0\n",
              "314       0      1     1       0       0     1      1     1     0\n",
              "\n",
              "[315 rows x 9 columns]"
            ]
          },
          "metadata": {},
          "execution_count": 15
        }
      ]
    },
    {
      "cell_type": "markdown",
      "metadata": {
        "id": "oMSfiNuC6fDG"
      },
      "source": [
        "Ya en la biblioteca la transformación\n"
      ]
    },
    {
      "cell_type": "code",
      "metadata": {
        "id": "N9LoPUdj6jBg"
      },
      "source": [
        "from mlxtend.preprocessing import TransactionEncoder"
      ],
      "execution_count": 16,
      "outputs": []
    },
    {
      "cell_type": "markdown",
      "metadata": {
        "id": "5qVwSGcH81c-"
      },
      "source": [
        "Tener los datos en un arreglo de arreglos, donde cada elemento es una transacción"
      ]
    },
    {
      "cell_type": "code",
      "metadata": {
        "id": "YfmhPjZG89SV"
      },
      "source": [
        "records_data=[x.astype('str') for x in data.values]"
      ],
      "execution_count": 17,
      "outputs": []
    },
    {
      "cell_type": "code",
      "metadata": {
        "colab": {
          "base_uri": "https://localhost:8080/"
        },
        "id": "kYg5b6fY8qym",
        "outputId": "15644a95-35b1-480c-c4fb-a0fd9d966439"
      },
      "source": [
        "te = TransactionEncoder()\n",
        "te_ary = te.fit(records_data).transform(records_data)\n",
        "df = pd.DataFrame(te_ary, columns=te.columns_)   \n",
        "df.pop('nan')   "
      ],
      "execution_count": 18,
      "outputs": [
        {
          "output_type": "execute_result",
          "data": {
            "text/plain": [
              "0      False\n",
              "1      False\n",
              "2       True\n",
              "3       True\n",
              "4       True\n",
              "       ...  \n",
              "310     True\n",
              "311     True\n",
              "312    False\n",
              "313     True\n",
              "314     True\n",
              "Name: nan, Length: 315, dtype: bool"
            ]
          },
          "metadata": {},
          "execution_count": 18
        }
      ]
    },
    {
      "cell_type": "code",
      "metadata": {
        "colab": {
          "base_uri": "https://localhost:8080/",
          "height": 419
        },
        "id": "XqY0z1IG-yBp",
        "outputId": "dcfe9d93-7108-45ca-c78b-62813d29c84d"
      },
      "source": [
        "df"
      ],
      "execution_count": 19,
      "outputs": [
        {
          "output_type": "execute_result",
          "data": {
            "text/html": [
              "<div>\n",
              "<style scoped>\n",
              "    .dataframe tbody tr th:only-of-type {\n",
              "        vertical-align: middle;\n",
              "    }\n",
              "\n",
              "    .dataframe tbody tr th {\n",
              "        vertical-align: top;\n",
              "    }\n",
              "\n",
              "    .dataframe thead th {\n",
              "        text-align: right;\n",
              "    }\n",
              "</style>\n",
              "<table border=\"1\" class=\"dataframe\">\n",
              "  <thead>\n",
              "    <tr style=\"text-align: right;\">\n",
              "      <th></th>\n",
              "      <th>Bagel</th>\n",
              "      <th>Bread</th>\n",
              "      <th>Cheese</th>\n",
              "      <th>Diaper</th>\n",
              "      <th>Eggs</th>\n",
              "      <th>Meat</th>\n",
              "      <th>Milk</th>\n",
              "      <th>Pencil</th>\n",
              "      <th>Wine</th>\n",
              "    </tr>\n",
              "  </thead>\n",
              "  <tbody>\n",
              "    <tr>\n",
              "      <th>0</th>\n",
              "      <td>False</td>\n",
              "      <td>True</td>\n",
              "      <td>True</td>\n",
              "      <td>True</td>\n",
              "      <td>True</td>\n",
              "      <td>True</td>\n",
              "      <td>False</td>\n",
              "      <td>True</td>\n",
              "      <td>True</td>\n",
              "    </tr>\n",
              "    <tr>\n",
              "      <th>1</th>\n",
              "      <td>False</td>\n",
              "      <td>True</td>\n",
              "      <td>True</td>\n",
              "      <td>True</td>\n",
              "      <td>False</td>\n",
              "      <td>True</td>\n",
              "      <td>True</td>\n",
              "      <td>True</td>\n",
              "      <td>True</td>\n",
              "    </tr>\n",
              "    <tr>\n",
              "      <th>2</th>\n",
              "      <td>False</td>\n",
              "      <td>False</td>\n",
              "      <td>True</td>\n",
              "      <td>False</td>\n",
              "      <td>True</td>\n",
              "      <td>True</td>\n",
              "      <td>True</td>\n",
              "      <td>False</td>\n",
              "      <td>True</td>\n",
              "    </tr>\n",
              "    <tr>\n",
              "      <th>3</th>\n",
              "      <td>False</td>\n",
              "      <td>False</td>\n",
              "      <td>True</td>\n",
              "      <td>False</td>\n",
              "      <td>True</td>\n",
              "      <td>True</td>\n",
              "      <td>True</td>\n",
              "      <td>False</td>\n",
              "      <td>True</td>\n",
              "    </tr>\n",
              "    <tr>\n",
              "      <th>4</th>\n",
              "      <td>False</td>\n",
              "      <td>False</td>\n",
              "      <td>False</td>\n",
              "      <td>False</td>\n",
              "      <td>False</td>\n",
              "      <td>True</td>\n",
              "      <td>False</td>\n",
              "      <td>True</td>\n",
              "      <td>True</td>\n",
              "    </tr>\n",
              "    <tr>\n",
              "      <th>...</th>\n",
              "      <td>...</td>\n",
              "      <td>...</td>\n",
              "      <td>...</td>\n",
              "      <td>...</td>\n",
              "      <td>...</td>\n",
              "      <td>...</td>\n",
              "      <td>...</td>\n",
              "      <td>...</td>\n",
              "      <td>...</td>\n",
              "    </tr>\n",
              "    <tr>\n",
              "      <th>310</th>\n",
              "      <td>False</td>\n",
              "      <td>True</td>\n",
              "      <td>True</td>\n",
              "      <td>False</td>\n",
              "      <td>True</td>\n",
              "      <td>False</td>\n",
              "      <td>False</td>\n",
              "      <td>False</td>\n",
              "      <td>False</td>\n",
              "    </tr>\n",
              "    <tr>\n",
              "      <th>311</th>\n",
              "      <td>False</td>\n",
              "      <td>False</td>\n",
              "      <td>False</td>\n",
              "      <td>False</td>\n",
              "      <td>False</td>\n",
              "      <td>True</td>\n",
              "      <td>True</td>\n",
              "      <td>True</td>\n",
              "      <td>False</td>\n",
              "    </tr>\n",
              "    <tr>\n",
              "      <th>312</th>\n",
              "      <td>False</td>\n",
              "      <td>True</td>\n",
              "      <td>True</td>\n",
              "      <td>True</td>\n",
              "      <td>True</td>\n",
              "      <td>True</td>\n",
              "      <td>False</td>\n",
              "      <td>True</td>\n",
              "      <td>True</td>\n",
              "    </tr>\n",
              "    <tr>\n",
              "      <th>313</th>\n",
              "      <td>False</td>\n",
              "      <td>False</td>\n",
              "      <td>True</td>\n",
              "      <td>False</td>\n",
              "      <td>False</td>\n",
              "      <td>True</td>\n",
              "      <td>False</td>\n",
              "      <td>False</td>\n",
              "      <td>False</td>\n",
              "    </tr>\n",
              "    <tr>\n",
              "      <th>314</th>\n",
              "      <td>True</td>\n",
              "      <td>True</td>\n",
              "      <td>False</td>\n",
              "      <td>False</td>\n",
              "      <td>True</td>\n",
              "      <td>True</td>\n",
              "      <td>False</td>\n",
              "      <td>False</td>\n",
              "      <td>True</td>\n",
              "    </tr>\n",
              "  </tbody>\n",
              "</table>\n",
              "<p>315 rows × 9 columns</p>\n",
              "</div>"
            ],
            "text/plain": [
              "     Bagel  Bread  Cheese  Diaper   Eggs   Meat   Milk  Pencil   Wine\n",
              "0    False   True    True    True   True   True  False    True   True\n",
              "1    False   True    True    True  False   True   True    True   True\n",
              "2    False  False    True   False   True   True   True   False   True\n",
              "3    False  False    True   False   True   True   True   False   True\n",
              "4    False  False   False   False  False   True  False    True   True\n",
              "..     ...    ...     ...     ...    ...    ...    ...     ...    ...\n",
              "310  False   True    True   False   True  False  False   False  False\n",
              "311  False  False   False   False  False   True   True    True  False\n",
              "312  False   True    True    True   True   True  False    True   True\n",
              "313  False  False    True   False  False   True  False   False  False\n",
              "314   True   True   False   False   True   True  False   False   True\n",
              "\n",
              "[315 rows x 9 columns]"
            ]
          },
          "metadata": {},
          "execution_count": 19
        }
      ]
    },
    {
      "cell_type": "code",
      "metadata": {
        "colab": {
          "base_uri": "https://localhost:8080/"
        },
        "id": "PfHHQvJK97rT",
        "outputId": "ca10c097-9faf-477e-eaeb-7668729f481d"
      },
      "source": [
        "te_ary.astype(\"int\")"
      ],
      "execution_count": 20,
      "outputs": [
        {
          "output_type": "execute_result",
          "data": {
            "text/plain": [
              "array([[0, 1, 1, ..., 1, 1, 0],\n",
              "       [0, 1, 1, ..., 1, 1, 0],\n",
              "       [0, 0, 1, ..., 0, 1, 1],\n",
              "       ...,\n",
              "       [0, 1, 1, ..., 1, 1, 0],\n",
              "       [0, 0, 1, ..., 0, 0, 1],\n",
              "       [1, 1, 0, ..., 0, 1, 1]])"
            ]
          },
          "metadata": {},
          "execution_count": 20
        }
      ]
    },
    {
      "cell_type": "code",
      "metadata": {
        "colab": {
          "base_uri": "https://localhost:8080/",
          "height": 419
        },
        "id": "XMIrLBlTxnre",
        "outputId": "611a973a-6ee4-498f-a933-fb4976311a28"
      },
      "source": [
        "te = TransactionEncoder()\n",
        "te_ary = te.fit(records_data).transform(records_data)\n",
        "te_ary=te_ary.astype(\"int\")\n",
        "df = pd.DataFrame(te_ary, columns=te.columns_)   \n",
        "df.pop('nan')\n",
        "df"
      ],
      "execution_count": 32,
      "outputs": [
        {
          "output_type": "execute_result",
          "data": {
            "text/html": [
              "<div>\n",
              "<style scoped>\n",
              "    .dataframe tbody tr th:only-of-type {\n",
              "        vertical-align: middle;\n",
              "    }\n",
              "\n",
              "    .dataframe tbody tr th {\n",
              "        vertical-align: top;\n",
              "    }\n",
              "\n",
              "    .dataframe thead th {\n",
              "        text-align: right;\n",
              "    }\n",
              "</style>\n",
              "<table border=\"1\" class=\"dataframe\">\n",
              "  <thead>\n",
              "    <tr style=\"text-align: right;\">\n",
              "      <th></th>\n",
              "      <th>Bagel</th>\n",
              "      <th>Bread</th>\n",
              "      <th>Cheese</th>\n",
              "      <th>Diaper</th>\n",
              "      <th>Eggs</th>\n",
              "      <th>Meat</th>\n",
              "      <th>Milk</th>\n",
              "      <th>Pencil</th>\n",
              "      <th>Wine</th>\n",
              "    </tr>\n",
              "  </thead>\n",
              "  <tbody>\n",
              "    <tr>\n",
              "      <th>0</th>\n",
              "      <td>0</td>\n",
              "      <td>1</td>\n",
              "      <td>1</td>\n",
              "      <td>1</td>\n",
              "      <td>1</td>\n",
              "      <td>1</td>\n",
              "      <td>0</td>\n",
              "      <td>1</td>\n",
              "      <td>1</td>\n",
              "    </tr>\n",
              "    <tr>\n",
              "      <th>1</th>\n",
              "      <td>0</td>\n",
              "      <td>1</td>\n",
              "      <td>1</td>\n",
              "      <td>1</td>\n",
              "      <td>0</td>\n",
              "      <td>1</td>\n",
              "      <td>1</td>\n",
              "      <td>1</td>\n",
              "      <td>1</td>\n",
              "    </tr>\n",
              "    <tr>\n",
              "      <th>2</th>\n",
              "      <td>0</td>\n",
              "      <td>0</td>\n",
              "      <td>1</td>\n",
              "      <td>0</td>\n",
              "      <td>1</td>\n",
              "      <td>1</td>\n",
              "      <td>1</td>\n",
              "      <td>0</td>\n",
              "      <td>1</td>\n",
              "    </tr>\n",
              "    <tr>\n",
              "      <th>3</th>\n",
              "      <td>0</td>\n",
              "      <td>0</td>\n",
              "      <td>1</td>\n",
              "      <td>0</td>\n",
              "      <td>1</td>\n",
              "      <td>1</td>\n",
              "      <td>1</td>\n",
              "      <td>0</td>\n",
              "      <td>1</td>\n",
              "    </tr>\n",
              "    <tr>\n",
              "      <th>4</th>\n",
              "      <td>0</td>\n",
              "      <td>0</td>\n",
              "      <td>0</td>\n",
              "      <td>0</td>\n",
              "      <td>0</td>\n",
              "      <td>1</td>\n",
              "      <td>0</td>\n",
              "      <td>1</td>\n",
              "      <td>1</td>\n",
              "    </tr>\n",
              "    <tr>\n",
              "      <th>...</th>\n",
              "      <td>...</td>\n",
              "      <td>...</td>\n",
              "      <td>...</td>\n",
              "      <td>...</td>\n",
              "      <td>...</td>\n",
              "      <td>...</td>\n",
              "      <td>...</td>\n",
              "      <td>...</td>\n",
              "      <td>...</td>\n",
              "    </tr>\n",
              "    <tr>\n",
              "      <th>310</th>\n",
              "      <td>0</td>\n",
              "      <td>1</td>\n",
              "      <td>1</td>\n",
              "      <td>0</td>\n",
              "      <td>1</td>\n",
              "      <td>0</td>\n",
              "      <td>0</td>\n",
              "      <td>0</td>\n",
              "      <td>0</td>\n",
              "    </tr>\n",
              "    <tr>\n",
              "      <th>311</th>\n",
              "      <td>0</td>\n",
              "      <td>0</td>\n",
              "      <td>0</td>\n",
              "      <td>0</td>\n",
              "      <td>0</td>\n",
              "      <td>1</td>\n",
              "      <td>1</td>\n",
              "      <td>1</td>\n",
              "      <td>0</td>\n",
              "    </tr>\n",
              "    <tr>\n",
              "      <th>312</th>\n",
              "      <td>0</td>\n",
              "      <td>1</td>\n",
              "      <td>1</td>\n",
              "      <td>1</td>\n",
              "      <td>1</td>\n",
              "      <td>1</td>\n",
              "      <td>0</td>\n",
              "      <td>1</td>\n",
              "      <td>1</td>\n",
              "    </tr>\n",
              "    <tr>\n",
              "      <th>313</th>\n",
              "      <td>0</td>\n",
              "      <td>0</td>\n",
              "      <td>1</td>\n",
              "      <td>0</td>\n",
              "      <td>0</td>\n",
              "      <td>1</td>\n",
              "      <td>0</td>\n",
              "      <td>0</td>\n",
              "      <td>0</td>\n",
              "    </tr>\n",
              "    <tr>\n",
              "      <th>314</th>\n",
              "      <td>1</td>\n",
              "      <td>1</td>\n",
              "      <td>0</td>\n",
              "      <td>0</td>\n",
              "      <td>1</td>\n",
              "      <td>1</td>\n",
              "      <td>0</td>\n",
              "      <td>0</td>\n",
              "      <td>1</td>\n",
              "    </tr>\n",
              "  </tbody>\n",
              "</table>\n",
              "<p>315 rows × 9 columns</p>\n",
              "</div>"
            ],
            "text/plain": [
              "     Bagel  Bread  Cheese  Diaper  Eggs  Meat  Milk  Pencil  Wine\n",
              "0        0      1       1       1     1     1     0       1     1\n",
              "1        0      1       1       1     0     1     1       1     1\n",
              "2        0      0       1       0     1     1     1       0     1\n",
              "3        0      0       1       0     1     1     1       0     1\n",
              "4        0      0       0       0     0     1     0       1     1\n",
              "..     ...    ...     ...     ...   ...   ...   ...     ...   ...\n",
              "310      0      1       1       0     1     0     0       0     0\n",
              "311      0      0       0       0     0     1     1       1     0\n",
              "312      0      1       1       1     1     1     0       1     1\n",
              "313      0      0       1       0     0     1     0       0     0\n",
              "314      1      1       0       0     1     1     0       0     1\n",
              "\n",
              "[315 rows x 9 columns]"
            ]
          },
          "metadata": {},
          "execution_count": 32
        }
      ]
    },
    {
      "cell_type": "code",
      "metadata": {
        "colab": {
          "base_uri": "https://localhost:8080/",
          "height": 266
        },
        "id": "w9hweWff_RDs",
        "outputId": "4e764e5e-d35b-435f-9831-04d7befc7ef1"
      },
      "source": [
        "freq_items_ohe = apriori(ohe_df, min_support=0.2, use_colnames=True)\n",
        "freq_items_ohe.head(7)"
      ],
      "execution_count": 21,
      "outputs": [
        {
          "output_type": "execute_result",
          "data": {
            "text/html": [
              "<div>\n",
              "<style scoped>\n",
              "    .dataframe tbody tr th:only-of-type {\n",
              "        vertical-align: middle;\n",
              "    }\n",
              "\n",
              "    .dataframe tbody tr th {\n",
              "        vertical-align: top;\n",
              "    }\n",
              "\n",
              "    .dataframe thead th {\n",
              "        text-align: right;\n",
              "    }\n",
              "</style>\n",
              "<table border=\"1\" class=\"dataframe\">\n",
              "  <thead>\n",
              "    <tr style=\"text-align: right;\">\n",
              "      <th></th>\n",
              "      <th>support</th>\n",
              "      <th>itemsets</th>\n",
              "    </tr>\n",
              "  </thead>\n",
              "  <tbody>\n",
              "    <tr>\n",
              "      <th>0</th>\n",
              "      <td>0.361905</td>\n",
              "      <td>(Pencil)</td>\n",
              "    </tr>\n",
              "    <tr>\n",
              "      <th>1</th>\n",
              "      <td>0.504762</td>\n",
              "      <td>(Bread)</td>\n",
              "    </tr>\n",
              "    <tr>\n",
              "      <th>2</th>\n",
              "      <td>0.476190</td>\n",
              "      <td>(Meat)</td>\n",
              "    </tr>\n",
              "    <tr>\n",
              "      <th>3</th>\n",
              "      <td>0.406349</td>\n",
              "      <td>(Diaper)</td>\n",
              "    </tr>\n",
              "    <tr>\n",
              "      <th>4</th>\n",
              "      <td>0.501587</td>\n",
              "      <td>(Cheese)</td>\n",
              "    </tr>\n",
              "    <tr>\n",
              "      <th>5</th>\n",
              "      <td>0.438095</td>\n",
              "      <td>(Eggs)</td>\n",
              "    </tr>\n",
              "    <tr>\n",
              "      <th>6</th>\n",
              "      <td>0.425397</td>\n",
              "      <td>(Bagel)</td>\n",
              "    </tr>\n",
              "  </tbody>\n",
              "</table>\n",
              "</div>"
            ],
            "text/plain": [
              "    support  itemsets\n",
              "0  0.361905  (Pencil)\n",
              "1  0.504762   (Bread)\n",
              "2  0.476190    (Meat)\n",
              "3  0.406349  (Diaper)\n",
              "4  0.501587  (Cheese)\n",
              "5  0.438095    (Eggs)\n",
              "6  0.425397   (Bagel)"
            ]
          },
          "metadata": {},
          "execution_count": 21
        }
      ]
    },
    {
      "cell_type": "code",
      "metadata": {
        "colab": {
          "base_uri": "https://localhost:8080/",
          "height": 266
        },
        "id": "-DzIbMgFRuwx",
        "outputId": "48c62091-ac35-4755-f732-cfeb4f260655"
      },
      "source": [
        "#apriori(df, min_support=0.5, use_colnames=False, max_len=None, verbose=0, low_memory=False)\n",
        "freq_items = apriori(df, min_support=0.2, use_colnames=True)\n",
        "freq_items.head(7)"
      ],
      "execution_count": 22,
      "outputs": [
        {
          "output_type": "execute_result",
          "data": {
            "text/html": [
              "<div>\n",
              "<style scoped>\n",
              "    .dataframe tbody tr th:only-of-type {\n",
              "        vertical-align: middle;\n",
              "    }\n",
              "\n",
              "    .dataframe tbody tr th {\n",
              "        vertical-align: top;\n",
              "    }\n",
              "\n",
              "    .dataframe thead th {\n",
              "        text-align: right;\n",
              "    }\n",
              "</style>\n",
              "<table border=\"1\" class=\"dataframe\">\n",
              "  <thead>\n",
              "    <tr style=\"text-align: right;\">\n",
              "      <th></th>\n",
              "      <th>support</th>\n",
              "      <th>itemsets</th>\n",
              "    </tr>\n",
              "  </thead>\n",
              "  <tbody>\n",
              "    <tr>\n",
              "      <th>0</th>\n",
              "      <td>0.425397</td>\n",
              "      <td>(Bagel)</td>\n",
              "    </tr>\n",
              "    <tr>\n",
              "      <th>1</th>\n",
              "      <td>0.504762</td>\n",
              "      <td>(Bread)</td>\n",
              "    </tr>\n",
              "    <tr>\n",
              "      <th>2</th>\n",
              "      <td>0.501587</td>\n",
              "      <td>(Cheese)</td>\n",
              "    </tr>\n",
              "    <tr>\n",
              "      <th>3</th>\n",
              "      <td>0.406349</td>\n",
              "      <td>(Diaper)</td>\n",
              "    </tr>\n",
              "    <tr>\n",
              "      <th>4</th>\n",
              "      <td>0.438095</td>\n",
              "      <td>(Eggs)</td>\n",
              "    </tr>\n",
              "    <tr>\n",
              "      <th>5</th>\n",
              "      <td>0.476190</td>\n",
              "      <td>(Meat)</td>\n",
              "    </tr>\n",
              "    <tr>\n",
              "      <th>6</th>\n",
              "      <td>0.501587</td>\n",
              "      <td>(Milk)</td>\n",
              "    </tr>\n",
              "  </tbody>\n",
              "</table>\n",
              "</div>"
            ],
            "text/plain": [
              "    support  itemsets\n",
              "0  0.425397   (Bagel)\n",
              "1  0.504762   (Bread)\n",
              "2  0.501587  (Cheese)\n",
              "3  0.406349  (Diaper)\n",
              "4  0.438095    (Eggs)\n",
              "5  0.476190    (Meat)\n",
              "6  0.501587    (Milk)"
            ]
          },
          "metadata": {},
          "execution_count": 22
        }
      ]
    },
    {
      "cell_type": "code",
      "metadata": {
        "colab": {
          "base_uri": "https://localhost:8080/",
          "height": 142
        },
        "id": "RwfcN8dw_kuM",
        "outputId": "e521096d-c0fd-42ed-f097-6d1dd0e3d1d7"
      },
      "source": [
        "rules = association_rules(freq_items_ohe, metric=\"confidence\", min_threshold=0.7)\n",
        "rules.head()"
      ],
      "execution_count": 23,
      "outputs": [
        {
          "output_type": "execute_result",
          "data": {
            "text/html": [
              "<div>\n",
              "<style scoped>\n",
              "    .dataframe tbody tr th:only-of-type {\n",
              "        vertical-align: middle;\n",
              "    }\n",
              "\n",
              "    .dataframe tbody tr th {\n",
              "        vertical-align: top;\n",
              "    }\n",
              "\n",
              "    .dataframe thead th {\n",
              "        text-align: right;\n",
              "    }\n",
              "</style>\n",
              "<table border=\"1\" class=\"dataframe\">\n",
              "  <thead>\n",
              "    <tr style=\"text-align: right;\">\n",
              "      <th></th>\n",
              "      <th>antecedents</th>\n",
              "      <th>consequents</th>\n",
              "      <th>antecedent support</th>\n",
              "      <th>consequent support</th>\n",
              "      <th>support</th>\n",
              "      <th>confidence</th>\n",
              "      <th>lift</th>\n",
              "      <th>leverage</th>\n",
              "      <th>conviction</th>\n",
              "    </tr>\n",
              "  </thead>\n",
              "  <tbody>\n",
              "    <tr>\n",
              "      <th>0</th>\n",
              "      <td>(Cheese, Eggs)</td>\n",
              "      <td>(Meat)</td>\n",
              "      <td>0.298413</td>\n",
              "      <td>0.476190</td>\n",
              "      <td>0.215873</td>\n",
              "      <td>0.723404</td>\n",
              "      <td>1.519149</td>\n",
              "      <td>0.073772</td>\n",
              "      <td>1.893773</td>\n",
              "    </tr>\n",
              "    <tr>\n",
              "      <th>1</th>\n",
              "      <td>(Meat, Eggs)</td>\n",
              "      <td>(Cheese)</td>\n",
              "      <td>0.266667</td>\n",
              "      <td>0.501587</td>\n",
              "      <td>0.215873</td>\n",
              "      <td>0.809524</td>\n",
              "      <td>1.613924</td>\n",
              "      <td>0.082116</td>\n",
              "      <td>2.616667</td>\n",
              "    </tr>\n",
              "    <tr>\n",
              "      <th>2</th>\n",
              "      <td>(Meat, Milk)</td>\n",
              "      <td>(Cheese)</td>\n",
              "      <td>0.244444</td>\n",
              "      <td>0.501587</td>\n",
              "      <td>0.203175</td>\n",
              "      <td>0.831169</td>\n",
              "      <td>1.657077</td>\n",
              "      <td>0.080564</td>\n",
              "      <td>2.952137</td>\n",
              "    </tr>\n",
              "  </tbody>\n",
              "</table>\n",
              "</div>"
            ],
            "text/plain": [
              "      antecedents consequents  ...  leverage  conviction\n",
              "0  (Cheese, Eggs)      (Meat)  ...  0.073772    1.893773\n",
              "1    (Meat, Eggs)    (Cheese)  ...  0.082116    2.616667\n",
              "2    (Meat, Milk)    (Cheese)  ...  0.080564    2.952137\n",
              "\n",
              "[3 rows x 9 columns]"
            ]
          },
          "metadata": {},
          "execution_count": 23
        }
      ]
    },
    {
      "cell_type": "code",
      "metadata": {
        "colab": {
          "base_uri": "https://localhost:8080/",
          "height": 204
        },
        "id": "MIANO8nASXvI",
        "outputId": "08b5d5bd-3e28-45f1-98a3-44a276e5c7ab"
      },
      "source": [
        "#association_rules(df, metric=’confidence’, min_threshold=0.8, support_only=False)\n",
        "rules = association_rules(freq_items, metric=\"confidence\", min_threshold=0.6)\n",
        "rules.head()"
      ],
      "execution_count": 24,
      "outputs": [
        {
          "output_type": "execute_result",
          "data": {
            "text/html": [
              "<div>\n",
              "<style scoped>\n",
              "    .dataframe tbody tr th:only-of-type {\n",
              "        vertical-align: middle;\n",
              "    }\n",
              "\n",
              "    .dataframe tbody tr th {\n",
              "        vertical-align: top;\n",
              "    }\n",
              "\n",
              "    .dataframe thead th {\n",
              "        text-align: right;\n",
              "    }\n",
              "</style>\n",
              "<table border=\"1\" class=\"dataframe\">\n",
              "  <thead>\n",
              "    <tr style=\"text-align: right;\">\n",
              "      <th></th>\n",
              "      <th>antecedents</th>\n",
              "      <th>consequents</th>\n",
              "      <th>antecedent support</th>\n",
              "      <th>consequent support</th>\n",
              "      <th>support</th>\n",
              "      <th>confidence</th>\n",
              "      <th>lift</th>\n",
              "      <th>leverage</th>\n",
              "      <th>conviction</th>\n",
              "    </tr>\n",
              "  </thead>\n",
              "  <tbody>\n",
              "    <tr>\n",
              "      <th>0</th>\n",
              "      <td>(Bagel)</td>\n",
              "      <td>(Bread)</td>\n",
              "      <td>0.425397</td>\n",
              "      <td>0.504762</td>\n",
              "      <td>0.279365</td>\n",
              "      <td>0.656716</td>\n",
              "      <td>1.301042</td>\n",
              "      <td>0.064641</td>\n",
              "      <td>1.442650</td>\n",
              "    </tr>\n",
              "    <tr>\n",
              "      <th>1</th>\n",
              "      <td>(Eggs)</td>\n",
              "      <td>(Cheese)</td>\n",
              "      <td>0.438095</td>\n",
              "      <td>0.501587</td>\n",
              "      <td>0.298413</td>\n",
              "      <td>0.681159</td>\n",
              "      <td>1.358008</td>\n",
              "      <td>0.078670</td>\n",
              "      <td>1.563203</td>\n",
              "    </tr>\n",
              "    <tr>\n",
              "      <th>2</th>\n",
              "      <td>(Meat)</td>\n",
              "      <td>(Cheese)</td>\n",
              "      <td>0.476190</td>\n",
              "      <td>0.501587</td>\n",
              "      <td>0.323810</td>\n",
              "      <td>0.680000</td>\n",
              "      <td>1.355696</td>\n",
              "      <td>0.084958</td>\n",
              "      <td>1.557540</td>\n",
              "    </tr>\n",
              "    <tr>\n",
              "      <th>3</th>\n",
              "      <td>(Cheese)</td>\n",
              "      <td>(Meat)</td>\n",
              "      <td>0.501587</td>\n",
              "      <td>0.476190</td>\n",
              "      <td>0.323810</td>\n",
              "      <td>0.645570</td>\n",
              "      <td>1.355696</td>\n",
              "      <td>0.084958</td>\n",
              "      <td>1.477891</td>\n",
              "    </tr>\n",
              "    <tr>\n",
              "      <th>4</th>\n",
              "      <td>(Cheese)</td>\n",
              "      <td>(Milk)</td>\n",
              "      <td>0.501587</td>\n",
              "      <td>0.501587</td>\n",
              "      <td>0.304762</td>\n",
              "      <td>0.607595</td>\n",
              "      <td>1.211344</td>\n",
              "      <td>0.053172</td>\n",
              "      <td>1.270148</td>\n",
              "    </tr>\n",
              "  </tbody>\n",
              "</table>\n",
              "</div>"
            ],
            "text/plain": [
              "  antecedents consequents  antecedent support  ...      lift  leverage  conviction\n",
              "0     (Bagel)     (Bread)            0.425397  ...  1.301042  0.064641    1.442650\n",
              "1      (Eggs)    (Cheese)            0.438095  ...  1.358008  0.078670    1.563203\n",
              "2      (Meat)    (Cheese)            0.476190  ...  1.355696  0.084958    1.557540\n",
              "3    (Cheese)      (Meat)            0.501587  ...  1.355696  0.084958    1.477891\n",
              "4    (Cheese)      (Milk)            0.501587  ...  1.211344  0.053172    1.270148\n",
              "\n",
              "[5 rows x 9 columns]"
            ]
          },
          "metadata": {},
          "execution_count": 24
        }
      ]
    },
    {
      "cell_type": "code",
      "metadata": {
        "colab": {
          "base_uri": "https://localhost:8080/"
        },
        "id": "dcfWCMg4ASTM",
        "outputId": "b3f1a636-6573-49d8-c51f-6ed537e0f7e2"
      },
      "source": [
        "rules = association_rules(freq_items, metric=\"lift\", min_threshold=1.2)\n",
        "print (rules)"
      ],
      "execution_count": 25,
      "outputs": [
        {
          "output_type": "stream",
          "text": [
            "       antecedents     consequents  ...  leverage  conviction\n",
            "0          (Bread)         (Bagel)  ...  0.064641    1.286787\n",
            "1          (Bagel)         (Bread)  ...  0.064641    1.442650\n",
            "2         (Cheese)          (Eggs)  ...  0.078670    1.387202\n",
            "3           (Eggs)        (Cheese)  ...  0.078670    1.563203\n",
            "4           (Meat)        (Cheese)  ...  0.084958    1.557540\n",
            "5         (Cheese)          (Meat)  ...  0.084958    1.477891\n",
            "6         (Cheese)          (Milk)  ...  0.053172    1.270148\n",
            "7           (Milk)        (Cheese)  ...  0.053172    1.270148\n",
            "8           (Wine)        (Cheese)  ...  0.050098    1.297754\n",
            "9         (Cheese)          (Wine)  ...  0.050098    1.216177\n",
            "10          (Wine)        (Diaper)  ...  0.056901    1.280060\n",
            "11        (Diaper)          (Wine)  ...  0.056901    1.331922\n",
            "12          (Meat)          (Eggs)  ...  0.058050    1.277056\n",
            "13          (Eggs)          (Meat)  ...  0.058050    1.338624\n",
            "14          (Wine)          (Eggs)  ...  0.049342    1.250691\n",
            "15          (Eggs)          (Wine)  ...  0.049342    1.250691\n",
            "16          (Wine)          (Meat)  ...  0.042177    1.225182\n",
            "17          (Meat)          (Wine)  ...  0.042177    1.187123\n",
            "18          (Wine)        (Pencil)  ...  0.041451    1.174095\n",
            "19        (Pencil)          (Wine)  ...  0.041451    1.256022\n",
            "20  (Cheese, Meat)          (Eggs)  ...  0.074014    1.685714\n",
            "21    (Meat, Eggs)        (Cheese)  ...  0.082116    2.616667\n",
            "22  (Cheese, Eggs)          (Meat)  ...  0.073772    1.893773\n",
            "23          (Meat)  (Cheese, Eggs)  ...  0.073772    1.283391\n",
            "24        (Cheese)    (Meat, Eggs)  ...  0.082116    1.287407\n",
            "25          (Eggs)  (Cheese, Meat)  ...  0.074014    1.333061\n",
            "26  (Cheese, Meat)          (Milk)  ...  0.040756    1.337845\n",
            "27    (Meat, Milk)        (Cheese)  ...  0.080564    2.952137\n",
            "28  (Cheese, Milk)          (Meat)  ...  0.058050    1.571429\n",
            "29          (Meat)  (Cheese, Milk)  ...  0.058050    1.212625\n",
            "30        (Cheese)    (Meat, Milk)  ...  0.080564    1.269976\n",
            "31          (Milk)  (Cheese, Meat)  ...  0.040756    1.136575\n",
            "\n",
            "[32 rows x 9 columns]\n"
          ],
          "name": "stdout"
        }
      ]
    },
    {
      "cell_type": "code",
      "metadata": {
        "colab": {
          "base_uri": "https://localhost:8080/",
          "height": 295
        },
        "id": "p51EZRcTSe4o",
        "outputId": "f4ae6eca-c937-4df0-fdad-1be6dac02c8e"
      },
      "source": [
        "plt.scatter(rules['support'], rules['confidence'], alpha=0.5)\n",
        "plt.xlabel('Support')\n",
        "plt.ylabel('Confidence')\n",
        "plt.title('Support vs Confidence')\n",
        "plt.show()"
      ],
      "execution_count": 26,
      "outputs": [
        {
          "output_type": "display_data",
          "data": {
            "image/png": "[encoded data removed]",
            "text/plain": [
              "<Figure size 432x288 with 1 Axes>"
            ]
          },
          "metadata": {
            "needs_background": "light"
          }
        }
      ]
    },
    {
      "cell_type": "code",
      "metadata": {
        "colab": {
          "base_uri": "https://localhost:8080/",
          "height": 295
        },
        "id": "YnciUEQJSpgo",
        "outputId": "d6f8f777-0182-487c-92cd-bd203e667008"
      },
      "source": [
        "plt.scatter(rules['support'], rules['lift'], alpha=0.5)\n",
        "plt.xlabel('support')\n",
        "plt.ylabel('lift')\n",
        "plt.title('Support vs Lift')\n",
        "plt.show()"
      ],
      "execution_count": 27,
      "outputs": [
        {
          "output_type": "display_data",
          "data": {
            "image/png": "[encoded data removed]",
            "text/plain": [
              "<Figure size 432x288 with 1 Axes>"
            ]
          },
          "metadata": {
            "needs_background": "light"
          }
        }
      ]
    },
    {
      "cell_type": "code",
      "metadata": {
        "colab": {
          "base_uri": "https://localhost:8080/",
          "height": 299
        },
        "id": "-0noCYmGS2Ko",
        "outputId": "2c332e91-8b3f-44a9-e543-37b287210a21"
      },
      "source": [
        "fit = np.polyfit(rules['lift'], rules['confidence'], 1)\n",
        "fit_fn = np.poly1d(fit)\n",
        "plt.plot(rules['lift'], rules['confidence'], 'yo', rules['lift'], \n",
        " fit_fn(rules['lift']))"
      ],
      "execution_count": 28,
      "outputs": [
        {
          "output_type": "execute_result",
          "data": {
            "text/plain": [
              "[<matplotlib.lines.Line2D at 0x7f7f0f9a3e90>,\n",
              " <matplotlib.lines.Line2D at 0x7f7f0f9a3f50>]"
            ]
          },
          "metadata": {},
          "execution_count": 28
        },
        {
          "output_type": "display_data",
          "data": {
            "image/png": "[encoded data removed]",
            "text/plain": [
              "<Figure size 432x288 with 1 Axes>"
            ]
          },
          "metadata": {
            "needs_background": "light"
          }
        }
      ]
    },
    {
      "cell_type": "code",
      "metadata": {
        "id": "kiYmHTHWB8Cx"
      },
      "source": [
        "import networkx as nx "
      ],
      "execution_count": 29,
      "outputs": []
    }
  ]
}